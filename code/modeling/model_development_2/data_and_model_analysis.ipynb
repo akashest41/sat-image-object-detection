{
 "cells": [
  {
   "cell_type": "markdown",
   "id": "8f4b691d-ccda-470d-8d1a-c0c5880b8f1d",
   "metadata": {},
   "source": [
    "Before fine tuning our dataset or models further, we first analyze the dataset we currently have"
   ]
  },
  {
   "cell_type": "markdown",
   "id": "a2510e0e-c5c3-422b-a84e-73b2ee6fc864",
   "metadata": {},
   "source": [
    "Things we can analyze for in this dataset are the following:\n",
    "1. Number of residential vs commercial labels\n",
    "2. Bounding box area histogram of residential vs commercial buildings\n",
    "3. Bounding box aspect ratio of residential vs commercial buildings\n",
    "4. Make sure all labels are consistent"
   ]
  },
  {
   "cell_type": "markdown",
   "id": "effb7f66-6462-4cd8-86f2-0fcfb940d334",
   "metadata": {},
   "source": [
    "For dataset tuning, we can use the following approaches:\n",
    "1. Manual addition of more data, especially from pre-event tiff\n",
    "2. Need for data normalization? (pixel values)\n",
    "3. Data augmentation techniques (some are listed here in terms of the metrics used for each augmentation trick: https://web.stanford.edu/~markcx/sample-project/IISE_Building_Damage_Detection_from_Satellite_Imagery.pdf)\n",
    "    - Rotation\n",
    "    - Noise addition\n",
    "    - Generating data with higher and lower resolutions (JPEG should \n",
    "    - Horizontal Flips\n",
    "    - Saturation\n",
    "    - Hue\n",
    "4. Note that class imbalance, if cannot be overcome for one reason or another, can be overcome by using approaches like data normality imposition (see: https://www.sciencedirect.com/science/article/pii/S0926580522002011) which involves creating balanced subsets, controlling class ratios, conducting normality tests, and using incremental learning to adaptively train the classifier, addressing the issue of extreme class imbalance in the original dataset. \n",
    "5. "
   ]
  },
  {
   "cell_type": "markdown",
   "id": "e13ff08c-b98b-472d-bd25-d3d715e1e1b2",
   "metadata": {
    "tags": []
   },
   "source": [
    "For model fine-tuning, the following parameters can be reconsidered:\n",
    "1. Hyperparameter tuning\n",
    "2. Epochs tuning\n",
    "3. Cross validation on the full traning set (i.e., different modalities of train/val split)\n",
    "4. Loss function checks (some loss functions are less sensitive to class imbalance, such as focal loss)\n",
    "5. Note that checking performance metrics for each class and image is also important before doing any fine-tuning as that might suggest improvements needed on the dataset side\n",
    "6. Learning rate scheduling (Implement learning rate scheduling to adaptively adjust learning rates during training)\n",
    "7. Regularization: Apply regularization techniques (e.g., dropout, L2 regularization) to prevent overfitting, especially if your dataset is limited.\n",
    "8. "
   ]
  },
  {
   "cell_type": "markdown",
   "id": "e72b1244-e5db-4938-9180-d4363f2625aa",
   "metadata": {},
   "source": [
    "Useful resources are listed here:\n",
    "1. https://neptune.ai/blog/data-exploration-for-image-segmentation-and-object-detection\n",
    "\n",
    "\n"
   ]
  },
  {
   "cell_type": "code",
   "execution_count": null,
   "id": "2f61210a-b737-4fb4-84c6-c94a93d46c03",
   "metadata": {},
   "outputs": [],
   "source": []
  }
 ],
 "metadata": {
  "kernelspec": {
   "display_name": "Python 3 (ipykernel)",
   "language": "python",
   "name": "python3"
  },
  "language_info": {
   "codemirror_mode": {
    "name": "ipython",
    "version": 3
   },
   "file_extension": ".py",
   "mimetype": "text/x-python",
   "name": "python",
   "nbconvert_exporter": "python",
   "pygments_lexer": "ipython3",
   "version": "3.11.4"
  }
 },
 "nbformat": 4,
 "nbformat_minor": 5
}
