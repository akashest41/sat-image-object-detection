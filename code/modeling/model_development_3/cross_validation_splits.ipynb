{
 "cells": [
  {
   "cell_type": "code",
   "execution_count": 1,
   "id": "e9fca703-78ff-4b18-acb0-f7c8dcd605b3",
   "metadata": {
    "tags": []
   },
   "outputs": [],
   "source": [
    "import os \n",
    "from sklearn.model_selection import KFold\n",
    "import shutil\n",
    "from tqdm import tqdm\n",
    "import labelme2yolo\n",
    "import subprocess"
   ]
  },
  {
   "cell_type": "code",
   "execution_count": 2,
   "id": "4d0d593b-cf3f-4339-9bfe-de30151f5528",
   "metadata": {
    "tags": []
   },
   "outputs": [],
   "source": [
    "tot_folds = 5\n",
    "kf = KFold(n_splits=tot_folds, shuffle=False)"
   ]
  },
  {
   "cell_type": "code",
   "execution_count": 3,
   "id": "1e341a84-9be6-48ec-a9d2-e69eca91342c",
   "metadata": {
    "tags": []
   },
   "outputs": [],
   "source": [
    "data_dir = os.getcwd() + '/training_data_3/'\n",
    "file_list = [file for file in os.listdir(data_dir) if file.endswith('.jpg')]\n",
    "train_jpg_files = []\n",
    "test_jpg_files = []\n",
    "for fold_idx, (train_indices, test_indices) in enumerate(kf.split(file_list)):\n",
    "    train_jpg_files.append([file_list[i] for i in train_indices])\n",
    "    test_jpg_files.append([file_list[i] for i in test_indices])"
   ]
  },
  {
   "cell_type": "code",
   "execution_count": 4,
   "id": "bb0805c6-f2cc-418b-a039-7a829fcbdb87",
   "metadata": {
    "tags": []
   },
   "outputs": [
    {
     "data": {
      "text/plain": [
       "91"
      ]
     },
     "execution_count": 4,
     "metadata": {},
     "output_type": "execute_result"
    }
   ],
   "source": [
    "sum([len(x) for x in test_jpg_files])"
   ]
  },
  {
   "cell_type": "code",
   "execution_count": 5,
   "id": "3892f836-6c7d-4848-af45-f05c7d378a3e",
   "metadata": {
    "tags": []
   },
   "outputs": [],
   "source": [
    "train_json_files = [[filename.replace(\".jpg\", \".json\") for filename in sublist] for sublist in train_jpg_files]\n",
    "test_json_files = [[filename.replace(\".jpg\", \".json\") for filename in sublist] for sublist in test_jpg_files]"
   ]
  },
  {
   "cell_type": "code",
   "execution_count": 6,
   "id": "317ea229-5956-47ef-a72f-8bd58708bf31",
   "metadata": {
    "tags": []
   },
   "outputs": [],
   "source": [
    "def copy_select_files(source_dir, dest_dir, file_list):\n",
    "    for filename in tqdm(file_list):\n",
    "        if os.path.isfile(os.path.join(source_dir, filename)):\n",
    "            source_path = os.path.join(source_dir, filename)\n",
    "            destination_path = os.path.join(dest_dir, filename)\n",
    "            shutil.copy2(source_path, destination_path)"
   ]
  },
  {
   "cell_type": "code",
   "execution_count": 7,
   "id": "d55a956d-763a-4321-8813-90c441876cba",
   "metadata": {
    "tags": []
   },
   "outputs": [],
   "source": [
    "def remove_files(directory_path):\n",
    "    files = os.listdir(directory_path)\n",
    "    for file_name in files:\n",
    "        file_path = os.path.join(directory_path, file_name)\n",
    "        if os.path.isfile(file_path):\n",
    "            os.remove(file_path)    "
   ]
  },
  {
   "cell_type": "code",
   "execution_count": 8,
   "id": "f1d08558-8bbe-4390-b8eb-61944d54d68e",
   "metadata": {
    "tags": []
   },
   "outputs": [],
   "source": [
    "def copy_all_files(source_dir, dest_dir):\n",
    "    for filename in tqdm(os.listdir(source_dir)):\n",
    "        if os.path.isfile(os.path.join(source_dir, filename)):\n",
    "            source_path = os.path.join(source_dir, filename)\n",
    "            destination_path = os.path.join(dest_dir, filename)\n",
    "            shutil.copy2(source_path, destination_path)"
   ]
  },
  {
   "cell_type": "code",
   "execution_count": 9,
   "id": "2e497a51-ae3d-49e8-8a48-d034da3a2779",
   "metadata": {
    "tags": []
   },
   "outputs": [
    {
     "name": "stderr",
     "output_type": "stream",
     "text": [
      "100%|██████████| 19/19 [00:00<00:00, 2153.42it/s]\n",
      "100%|██████████| 19/19 [00:00<00:00, 3843.72it/s]\n",
      "INFO:labelme2yolo:Converting train set ...\n",
      "100%|██████████| 19/19 [00:03<00:00,  5.95it/s]\n",
      "INFO:labelme2yolo:Converting val set ...\n",
      "0it [00:00, ?it/s]\n",
      "INFO:labelme2yolo:Converting test set ...\n",
      "0it [00:00, ?it/s]\n",
      "100%|██████████| 72/72 [00:00<00:00, 4567.30it/s]\n",
      "100%|██████████| 72/72 [00:00<00:00, 3972.71it/s]\n",
      "INFO:labelme2yolo:Converting train set ...\n",
      "100%|██████████| 72/72 [00:11<00:00,  6.16it/s]\n",
      "INFO:labelme2yolo:Converting val set ...\n",
      "0it [00:00, ?it/s]\n",
      "INFO:labelme2yolo:Converting test set ...\n",
      "0it [00:00, ?it/s]\n",
      "100%|██████████| 19/19 [00:00<00:00, 1415.51it/s]\n",
      "100%|██████████| 19/19 [00:00<00:00, 4446.84it/s]\n",
      "100%|██████████| 72/72 [00:00<00:00, 1539.82it/s]\n",
      "100%|██████████| 19/19 [00:00<00:00, 1590.24it/s]\n",
      "100%|██████████| 72/72 [00:00<00:00, 5673.62it/s]\n",
      "100%|██████████| 19/19 [00:00<00:00, 5151.71it/s]\n"
     ]
    }
   ],
   "source": [
    "#going over all the folds\n",
    "source_dir = os.getcwd() + '/training_data_3'\n",
    "for split in range(1):\n",
    "    \n",
    "    #create the training directory for that particular fold\n",
    "    \n",
    "    dest_dir = os.getcwd() + '/training_data_3_split_' + str(split+1) + '/'\n",
    "    os.makedirs(dest_dir, exist_ok=True)\n",
    "    \n",
    "    #generate the training and test data for that fold for labelme2yolo\n",
    "     \n",
    "    copy_select_files(source_dir, dest_dir, test_jpg_files[split])\n",
    "    copy_select_files(source_dir, dest_dir, test_json_files[split])\n",
    "    subprocess.run('labelme2yolo --json_dir ./training_data_3_split_' + str(split+1) + '/ --val_size 0', shell=True)\n",
    "    os.rename(dest_dir + 'YOLODataset', dest_dir + 'tmp')\n",
    "    remove_files(dest_dir)\n",
    "    \n",
    "    copy_select_files(source_dir, dest_dir, train_jpg_files[split])\n",
    "    copy_select_files(source_dir, dest_dir, train_json_files[split])\n",
    "    subprocess.run('labelme2yolo --json_dir ./training_data_3_split_' + str(split+1) + '/ --val_size 0', shell=True)\n",
    "    copy_select_files(dest_dir + 'tmp/images/train/', dest_dir + 'YOLODataset/images/val/', os.listdir(dest_dir + 'tmp/images/train/'))\n",
    "    copy_select_files(dest_dir + 'tmp/labels/train/', dest_dir + 'YOLODataset/labels/val/', os.listdir(dest_dir + 'tmp/labels/train/'))\n",
    "    shutil.rmtree(dest_dir + 'tmp')\n",
    "    \n",
    "    #now copy images for YOLO training\n",
    "    source_train = dest_dir + 'YOLODataset/images/train'\n",
    "    source_val = dest_dir + 'YOLODataset/images/val'\n",
    "\n",
    "    train_dir = dest_dir + 'YOLODataset/datasets/train'\n",
    "    val_dir = dest_dir + 'YOLODataset/datasets/val'\n",
    "    os.makedirs(train_dir, exist_ok=True)\n",
    "    os.makedirs(val_dir, exist_ok=True)\n",
    "\n",
    "    copy_all_files(source_train, train_dir)\n",
    "    copy_all_files(source_val, val_dir)\n",
    "    \n",
    "    #now copy labels for YOLO training\n",
    "    source_train = dest_dir + 'YOLODataset/labels/train'\n",
    "    source_val = dest_dir + 'YOLODataset/labels/val'\n",
    "    copy_all_files(source_train, train_dir)\n",
    "    copy_all_files(source_val, val_dir)\n",
    "    \n",
    "    #changing yaml directory links\n",
    "    with open(dest_dir + 'YOLODataset/dataset.yaml', 'r') as file:\n",
    "        lines = file.readlines()\n",
    "    lines[0] = 'train: ./datasets/train' + '\\n'\n",
    "    lines[1] = 'val: ./datasets/val' + '\\n'\n",
    "    with open(dest_dir + 'YOLODataset/dataset.yaml', 'w') as file:\n",
    "        file.writelines(lines)"
   ]
  },
  {
   "cell_type": "code",
   "execution_count": 10,
   "id": "0c84a3a6-6002-4a62-8489-94b15dabe1c1",
   "metadata": {
    "tags": []
   },
   "outputs": [
    {
     "data": {
      "text/plain": [
       "['Post_Event_0053.jpg',\n",
       " 'Post_Event_0020.jpg',\n",
       " 'Post_Event_0038.jpg',\n",
       " 'Post_Event_0066.jpg',\n",
       " 'Post_Event_0081.jpg',\n",
       " 'Post_Event_0000.jpg',\n",
       " 'Post_Event_0074.jpg',\n",
       " 'Post_Event_0057.jpg',\n",
       " 'Post_Event_0058.jpg',\n",
       " 'Post_Event_0029.jpg',\n",
       " 'Post_Event_0042.jpg',\n",
       " 'Post_Event_0028.jpg',\n",
       " 'Post_Event_0077.jpg',\n",
       " 'Post_Event_0072.jpg',\n",
       " 'Post_Event_0082.jpg',\n",
       " 'Post_Event_0051.jpg',\n",
       " 'Post_Event_0044.jpg',\n",
       " 'Post_Event_0005.jpg',\n",
       " 'Post_Event_0016.jpg']"
      ]
     },
     "execution_count": 10,
     "metadata": {},
     "output_type": "execute_result"
    }
   ],
   "source": [
    "test_jpg_files[0]"
   ]
  },
  {
   "cell_type": "code",
   "execution_count": null,
   "id": "2ec545bb-276e-4adc-a540-e5a67e8c14f5",
   "metadata": {},
   "outputs": [],
   "source": []
  }
 ],
 "metadata": {
  "kernelspec": {
   "display_name": "Python 3 (ipykernel)",
   "language": "python",
   "name": "python3"
  },
  "language_info": {
   "codemirror_mode": {
    "name": "ipython",
    "version": 3
   },
   "file_extension": ".py",
   "mimetype": "text/x-python",
   "name": "python",
   "nbconvert_exporter": "python",
   "pygments_lexer": "ipython3",
   "version": "3.11.4"
  }
 },
 "nbformat": 4,
 "nbformat_minor": 5
}
