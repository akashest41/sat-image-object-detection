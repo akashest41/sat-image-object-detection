{
 "cells": [
  {
   "cell_type": "code",
   "execution_count": 1,
   "id": "5af8f88b-2476-41cd-aaeb-1fdb07aa6dde",
   "metadata": {
    "tags": []
   },
   "outputs": [],
   "source": [
    "# !pip install ultralytics"
   ]
  },
  {
   "cell_type": "code",
   "execution_count": 2,
   "id": "8bc57743-8d48-4615-9f2e-9ac4f0c20725",
   "metadata": {
    "tags": []
   },
   "outputs": [],
   "source": [
    "# !pip install labelme2yolo"
   ]
  },
  {
   "cell_type": "code",
   "execution_count": 3,
   "id": "8d5e7de3-85aa-47fc-8bc5-013c56bba1a4",
   "metadata": {
    "tags": []
   },
   "outputs": [],
   "source": [
    "# !pip install opencv-python-headless"
   ]
  },
  {
   "cell_type": "code",
   "execution_count": 12,
   "id": "24744891-fbc3-43ba-a6b7-a1958ef4713d",
   "metadata": {
    "tags": []
   },
   "outputs": [
    {
     "name": "stdout",
     "output_type": "stream",
     "text": [
      "/home/jovyan/PlanetaryComputerExamples/EYOpenScience/model_development_7_restart\n"
     ]
    }
   ],
   "source": [
    "!pwd"
   ]
  },
  {
   "cell_type": "code",
   "execution_count": 2,
   "id": "ccde58ed-fe5a-41e5-9aac-175389b6ff88",
   "metadata": {
    "tags": []
   },
   "outputs": [],
   "source": [
    "# Supress Warnings\n",
    "import warnings\n",
    "warnings.filterwarnings('ignore')\n",
    "\n",
    "# GeoTiff Images\n",
    "import rasterio\n",
    "from osgeo import gdal\n",
    "\n",
    "# Visualisation\n",
    "from matplotlib import pyplot as plt\n",
    "import matplotlib.image as img\n",
    "from matplotlib.pyplot import figure\n",
    "from PIL import Image\n",
    "%matplotlib inline\n",
    "\n",
    "# Model Building\n",
    "import ultralytics\n",
    "from ultralytics import YOLO\n",
    "import labelme2yolo\n",
    "\n",
    "# Others\n",
    "import os\n",
    "import shutil\n",
    "import zipfile\n",
    "import csv\n",
    "from tqdm import tqdm"
   ]
  },
  {
   "cell_type": "code",
   "execution_count": 4,
   "id": "d6780bf1-db6e-481f-9ee5-c943a86e17d7",
   "metadata": {
    "tags": []
   },
   "outputs": [],
   "source": [
    "# !labelme2yolo --json_dir ./training_data_7/"
   ]
  },
  {
   "cell_type": "code",
   "execution_count": 5,
   "id": "2e6b0a67-e891-4261-9af6-602e4d0e8e97",
   "metadata": {
    "tags": []
   },
   "outputs": [],
   "source": [
    "# def copy_files(source_dir, dest_dir):\n",
    "#     for filename in tqdm(os.listdir(source_dir)):\n",
    "#         if os.path.isfile(os.path.join(source_dir, filename)):\n",
    "#             source_path = os.path.join(source_dir, filename)\n",
    "#             destination_path = os.path.join(dest_dir, filename)\n",
    "#             shutil.copy2(source_path, destination_path)"
   ]
  },
  {
   "cell_type": "code",
   "execution_count": 6,
   "id": "d0e43947-a620-40f3-8214-25cf86ee3017",
   "metadata": {
    "tags": []
   },
   "outputs": [],
   "source": [
    "#copy images\n",
    "# source_train = os.getcwd() + '/training_data_7/YOLODataset/images/train'\n",
    "# source_val = os.getcwd() + '/training_data_7/YOLODataset/images/val'\n",
    "\n",
    "# train_dir = os.getcwd() + '/training_data_7/YOLODataset/datasets/train'\n",
    "# val_dir = os.getcwd() + '/training_data_7/YOLODataset/datasets/val'\n",
    "# os.makedirs(train_dir, exist_ok=True)\n",
    "# os.makedirs(val_dir, exist_ok=True)\n",
    "\n",
    "# copy_files(source_train, train_dir)\n",
    "# copy_files(source_val, val_dir)"
   ]
  },
  {
   "cell_type": "code",
   "execution_count": 7,
   "id": "a2f08281-4560-41f0-aea0-0d0b55dc5e13",
   "metadata": {
    "tags": []
   },
   "outputs": [],
   "source": [
    "# #copy labels\n",
    "# source_train = os.getcwd() + '/training_data_7/YOLODataset/labels/train'\n",
    "# source_val = os.getcwd() + '/training_data_7/YOLODataset/labels/val'\n",
    "# copy_files(source_train, train_dir)\n",
    "# copy_files(source_val, val_dir)"
   ]
  },
  {
   "cell_type": "code",
   "execution_count": 8,
   "id": "f8c74088-fdb7-41c9-9c1a-844c0ffb4f5b",
   "metadata": {
    "tags": []
   },
   "outputs": [],
   "source": [
    "# #Loading the model\n",
    "# model = YOLO('yolov8n.pt')"
   ]
  },
  {
   "cell_type": "code",
   "execution_count": 9,
   "id": "14ec1cf6-aadf-4f8b-8cd7-0056ae2afcab",
   "metadata": {
    "tags": []
   },
   "outputs": [],
   "source": [
    "# # Display model information (optional)\n",
    "# model.info()"
   ]
  },
  {
   "cell_type": "code",
   "execution_count": 10,
   "id": "01979b26-846f-4873-b0d4-12f8e219e20b",
   "metadata": {
    "tags": []
   },
   "outputs": [],
   "source": [
    "# #changing yaml directory links\n",
    "# with open(os.getcwd()+'/training_data_7/YOLODataset/dataset.yaml', 'r') as file:\n",
    "#     lines = file.readlines()\n",
    "# lines[0] = 'train: ./datasets/train' + '\\n'\n",
    "# lines[1] = 'val: ./datasets/val' + '\\n'\n",
    "# with open(os.getcwd()+'/training_data_7/YOLODataset/dataset.yaml', 'w') as file:\n",
    "#     file.writelines(lines)"
   ]
  },
  {
   "cell_type": "code",
   "execution_count": 11,
   "id": "1b7dc160-fc36-47b0-9368-83b27fec3cdd",
   "metadata": {
    "tags": []
   },
   "outputs": [],
   "source": [
    "# # Train the model on the dataset for recommended initial 300 epochs\n",
    "# all_data_yaml = os.getcwd()+'/training_data_7/YOLODataset/dataset.yaml'\n",
    "# results = model.train(data=all_data_yaml, epochs=300, imgsz=512)"
   ]
  },
  {
   "cell_type": "code",
   "execution_count": 14,
   "id": "505daaa2-239e-4ade-8021-e7c4e8d94c86",
   "metadata": {},
   "outputs": [],
   "source": [
    "# restart the model\n",
    "\n",
    "# Load the last model\n",
    "model = YOLO('./runs/detect/train/weights/last.pt')  # load a partially trained model"
   ]
  },
  {
   "cell_type": "code",
   "execution_count": null,
   "id": "4c47ed84-a218-4445-855c-f5b1e028d21f",
   "metadata": {
    "tags": []
   },
   "outputs": [
    {
     "name": "stdout",
     "output_type": "stream",
     "text": [
      "Ultralytics YOLOv8.1.24 🚀 Python-3.11.4 torch-2.2.1+cu121 CPU (Intel Xeon E5-2673 v4 2.30GHz)\n",
      "\u001b[34m\u001b[1mengine/trainer: \u001b[0mtask=detect, mode=train, model=runs/detect/train/weights/last.pt, data=/home/jovyan/PlanetaryComputerExamples/EYOpenScience/model_development_7/training_data_7/YOLODataset/dataset.yaml, epochs=300, time=None, patience=100, batch=16, imgsz=512, save=True, save_period=-1, cache=False, device=None, workers=0, project=None, name=train, exist_ok=False, pretrained=True, optimizer=auto, verbose=True, seed=0, deterministic=True, single_cls=False, rect=False, cos_lr=False, close_mosaic=10, resume=False, amp=True, fraction=1.0, profile=False, freeze=None, multi_scale=False, overlap_mask=True, mask_ratio=4, dropout=0.0, val=True, split=val, save_json=False, save_hybrid=False, conf=None, iou=0.7, max_det=300, half=False, dnn=False, plots=True, source=None, vid_stride=1, stream_buffer=False, visualize=False, augment=False, agnostic_nms=False, classes=None, retina_masks=False, embed=None, show=False, save_frames=False, save_txt=False, save_conf=False, save_crop=False, show_labels=True, show_conf=True, show_boxes=True, line_width=None, format=torchscript, keras=False, optimize=False, int8=False, dynamic=False, simplify=False, opset=None, workspace=4, nms=False, lr0=0.01, lrf=0.01, momentum=0.937, weight_decay=0.0005, warmup_epochs=3.0, warmup_momentum=0.8, warmup_bias_lr=0.0, box=7.5, cls=0.5, dfl=1.5, pose=12.0, kobj=1.0, label_smoothing=0.0, nbs=64, hsv_h=0.015, hsv_s=0.7, hsv_v=0.4, degrees=0.0, translate=0.1, scale=0.5, shear=0.0, perspective=0.0, flipud=0.0, fliplr=0.5, mosaic=1.0, mixup=0.0, copy_paste=0.0, auto_augment=randaugment, erasing=0.4, crop_fraction=1.0, cfg=None, tracker=botsort.yaml, save_dir=runs/detect/train\n",
      "\n",
      "                   from  n    params  module                                       arguments                     \n",
      "  0                  -1  1       464  ultralytics.nn.modules.conv.Conv             [3, 16, 3, 2]                 \n",
      "  1                  -1  1      4672  ultralytics.nn.modules.conv.Conv             [16, 32, 3, 2]                \n",
      "  2                  -1  1      7360  ultralytics.nn.modules.block.C2f             [32, 32, 1, True]             \n",
      "  3                  -1  1     18560  ultralytics.nn.modules.conv.Conv             [32, 64, 3, 2]                \n",
      "  4                  -1  2     49664  ultralytics.nn.modules.block.C2f             [64, 64, 2, True]             \n",
      "  5                  -1  1     73984  ultralytics.nn.modules.conv.Conv             [64, 128, 3, 2]               \n",
      "  6                  -1  2    197632  ultralytics.nn.modules.block.C2f             [128, 128, 2, True]           \n",
      "  7                  -1  1    295424  ultralytics.nn.modules.conv.Conv             [128, 256, 3, 2]              \n",
      "  8                  -1  1    460288  ultralytics.nn.modules.block.C2f             [256, 256, 1, True]           \n",
      "  9                  -1  1    164608  ultralytics.nn.modules.block.SPPF            [256, 256, 5]                 \n",
      " 10                  -1  1         0  torch.nn.modules.upsampling.Upsample         [None, 2, 'nearest']          \n",
      " 11             [-1, 6]  1         0  ultralytics.nn.modules.conv.Concat           [1]                           \n",
      " 12                  -1  1    148224  ultralytics.nn.modules.block.C2f             [384, 128, 1]                 \n",
      " 13                  -1  1         0  torch.nn.modules.upsampling.Upsample         [None, 2, 'nearest']          \n",
      " 14             [-1, 4]  1         0  ultralytics.nn.modules.conv.Concat           [1]                           \n",
      " 15                  -1  1     37248  ultralytics.nn.modules.block.C2f             [192, 64, 1]                  \n",
      " 16                  -1  1     36992  ultralytics.nn.modules.conv.Conv             [64, 64, 3, 2]                \n",
      " 17            [-1, 12]  1         0  ultralytics.nn.modules.conv.Concat           [1]                           \n",
      " 18                  -1  1    123648  ultralytics.nn.modules.block.C2f             [192, 128, 1]                 \n",
      " 19                  -1  1    147712  ultralytics.nn.modules.conv.Conv             [128, 128, 3, 2]              \n",
      " 20             [-1, 9]  1         0  ultralytics.nn.modules.conv.Concat           [1]                           \n",
      " 21                  -1  1    493056  ultralytics.nn.modules.block.C2f             [384, 256, 1]                 \n",
      " 22        [15, 18, 21]  1    752092  ultralytics.nn.modules.head.Detect           [4, [64, 128, 256]]           \n",
      "Model summary: 225 layers, 3011628 parameters, 3011612 gradients, 8.2 GFLOPs\n",
      "\n",
      "Transferred 355/355 items from pretrained weights\n",
      "Freezing layer 'model.22.dfl.conv.weight'\n"
     ]
    },
    {
     "name": "stderr",
     "output_type": "stream",
     "text": [
      "\u001b[34m\u001b[1mtrain: \u001b[0mScanning /home/jovyan/PlanetaryComputerExamples/EYOpenScience/model_development_7/training_data_7/YOLODataset/datasets/train.cache... 1776 images, 21 backgrounds, 0 corrupt: 100%|██████████| 1776/1776 [00:00<?, ?it/s]\n",
      "\u001b[34m\u001b[1mval: \u001b[0mScanning /home/jovyan/PlanetaryComputerExamples/EYOpenScience/model_development_7/training_data_7/YOLODataset/datasets/val.cache... 444 images, 6 backgrounds, 0 corrupt: 100%|██████████| 444/444 [00:00<?, ?it/s]\n"
     ]
    },
    {
     "name": "stdout",
     "output_type": "stream",
     "text": [
      "Plotting labels to runs/detect/train/labels.jpg... \n",
      "\u001b[34m\u001b[1moptimizer:\u001b[0m 'optimizer=auto' found, ignoring 'lr0=0.01' and 'momentum=0.937' and determining best 'optimizer', 'lr0' and 'momentum' automatically... \n",
      "\u001b[34m\u001b[1moptimizer:\u001b[0m AdamW(lr=0.00125, momentum=0.9) with parameter groups 57 weight(decay=0.0), 64 weight(decay=0.0005), 63 bias(decay=0.0)\n",
      "Resuming training from runs/detect/train/weights/last.pt from epoch 48 to 300 total epochs\n",
      "Image sizes 512 train, 512 val\n",
      "Using 0 dataloader workers\n",
      "Logging results to \u001b[1mruns/detect/train\u001b[0m\n",
      "Starting training for 300 epochs...\n",
      "\n",
      "      Epoch    GPU_mem   box_loss   cls_loss   dfl_loss  Instances       Size\n"
     ]
    },
    {
     "name": "stderr",
     "output_type": "stream",
     "text": [
      "     48/300         0G      1.142     0.7773      1.054        390        512: 100%|██████████| 111/111 [13:53<00:00,  7.51s/it]\n",
      "                 Class     Images  Instances      Box(P          R      mAP50  mAP50-95): 100%|██████████| 14/14 [01:17<00:00,  5.50s/it]"
     ]
    },
    {
     "name": "stdout",
     "output_type": "stream",
     "text": [
      "                   all        444       8601      0.825      0.767      0.843      0.611\n"
     ]
    },
    {
     "name": "stderr",
     "output_type": "stream",
     "text": [
      "\n"
     ]
    },
    {
     "name": "stdout",
     "output_type": "stream",
     "text": [
      "\n",
      "      Epoch    GPU_mem   box_loss   cls_loss   dfl_loss  Instances       Size\n"
     ]
    },
    {
     "name": "stderr",
     "output_type": "stream",
     "text": [
      "     49/300         0G      1.131     0.7718      1.049        388        512:  32%|███▏      | 36/111 [10:44<55:30, 44.40s/it]"
     ]
    }
   ],
   "source": [
    "# Resume training\n",
    "results = model.train(resume=True)"
   ]
  },
  {
   "cell_type": "code",
   "execution_count": 4,
   "id": "2a797cf7-1b4c-447e-a81d-ef7e20b70d6a",
   "metadata": {},
   "outputs": [],
   "source": [
    "# Load the Model\n",
    "model = YOLO('./runs/detect/train/weights/best.pt')"
   ]
  },
  {
   "cell_type": "code",
   "execution_count": 5,
   "id": "f1df856c-d985-4861-a1ba-ecce486ee19a",
   "metadata": {
    "tags": []
   },
   "outputs": [
    {
     "name": "stdout",
     "output_type": "stream",
     "text": [
      "challenge_1_submission_images/Validation_Post_Event_008.jpg\n",
      "Making a prediction on  Validation_Post_Event_008.jpg\n",
      "\n",
      "image 1/1 /home/jovyan/PlanetaryComputerExamples/EYOpenScience/model_development_7_restart/challenge_1_submission_images/Validation_Post_Event_008.jpg: 512x512 1 undamagedcommercialbuilding, 17 undamagedresidentialbuildings, 2 damagedresidentialbuildings, 3310.1ms\n",
      "Speed: 12.7ms preprocess, 3310.1ms inference, 55.0ms postprocess per image at shape (1, 3, 512, 512)\n",
      "Results saved to \u001b[1mruns/detect/predict\u001b[0m\n",
      "1 label saved to runs/detect/predict/labels\n",
      "Output files generated successfully.\n",
      "challenge_1_submission_images/Validation_Post_Event_002.jpg\n",
      "Making a prediction on  Validation_Post_Event_002.jpg\n",
      "\n",
      "image 1/1 /home/jovyan/PlanetaryComputerExamples/EYOpenScience/model_development_7_restart/challenge_1_submission_images/Validation_Post_Event_002.jpg: 512x512 12 undamagedresidentialbuildings, 4 damagedresidentialbuildings, 4481.5ms\n",
      "Speed: 27.9ms preprocess, 4481.5ms inference, 11.7ms postprocess per image at shape (1, 3, 512, 512)\n",
      "Results saved to \u001b[1mruns/detect/predict\u001b[0m\n",
      "2 labels saved to runs/detect/predict/labels\n",
      "Output files generated successfully.\n",
      "challenge_1_submission_images/Validation_Post_Event_012.jpg\n",
      "Making a prediction on  Validation_Post_Event_012.jpg\n",
      "\n",
      "image 1/1 /home/jovyan/PlanetaryComputerExamples/EYOpenScience/model_development_7_restart/challenge_1_submission_images/Validation_Post_Event_012.jpg: 512x512 5 undamagedcommercialbuildings, 24 undamagedresidentialbuildings, 6 damagedresidentialbuildings, 3711.7ms\n",
      "Speed: 28.1ms preprocess, 3711.7ms inference, 7.7ms postprocess per image at shape (1, 3, 512, 512)\n",
      "Results saved to \u001b[1mruns/detect/predict\u001b[0m\n",
      "3 labels saved to runs/detect/predict/labels\n",
      "Output files generated successfully.\n",
      "challenge_1_submission_images/Validation_Post_Event_005.jpg\n",
      "Making a prediction on  Validation_Post_Event_005.jpg\n",
      "\n",
      "image 1/1 /home/jovyan/PlanetaryComputerExamples/EYOpenScience/model_development_7_restart/challenge_1_submission_images/Validation_Post_Event_005.jpg: 512x512 4 undamagedcommercialbuildings, 24 undamagedresidentialbuildings, 3 damagedresidentialbuildings, 3638.3ms\n",
      "Speed: 11.4ms preprocess, 3638.3ms inference, 1.4ms postprocess per image at shape (1, 3, 512, 512)\n",
      "Results saved to \u001b[1mruns/detect/predict\u001b[0m\n",
      "4 labels saved to runs/detect/predict/labels\n",
      "Output files generated successfully.\n",
      "challenge_1_submission_images/Validation_Post_Event_010.jpg\n",
      "Making a prediction on  Validation_Post_Event_010.jpg\n",
      "\n",
      "image 1/1 /home/jovyan/PlanetaryComputerExamples/EYOpenScience/model_development_7_restart/challenge_1_submission_images/Validation_Post_Event_010.jpg: 512x512 2 damagedcommercialbuildings, 14 undamagedcommercialbuildings, 3 undamagedresidentialbuildings, 2193.4ms\n",
      "Speed: 59.2ms preprocess, 2193.4ms inference, 5.8ms postprocess per image at shape (1, 3, 512, 512)\n",
      "Results saved to \u001b[1mruns/detect/predict\u001b[0m\n",
      "5 labels saved to runs/detect/predict/labels\n",
      "Output files generated successfully.\n",
      "challenge_1_submission_images/Validation_Post_Event_006.jpg\n",
      "Making a prediction on  Validation_Post_Event_006.jpg\n",
      "\n",
      "image 1/1 /home/jovyan/PlanetaryComputerExamples/EYOpenScience/model_development_7_restart/challenge_1_submission_images/Validation_Post_Event_006.jpg: 512x512 2 damagedcommercialbuildings, 7 undamagedcommercialbuildings, 26 undamagedresidentialbuildings, 3 damagedresidentialbuildings, 2115.9ms\n",
      "Speed: 11.9ms preprocess, 2115.9ms inference, 3.2ms postprocess per image at shape (1, 3, 512, 512)\n",
      "Results saved to \u001b[1mruns/detect/predict\u001b[0m\n",
      "6 labels saved to runs/detect/predict/labels\n",
      "Output files generated successfully.\n",
      "challenge_1_submission_images/Validation_Post_Event_004.jpg\n",
      "Making a prediction on  Validation_Post_Event_004.jpg\n",
      "\n",
      "image 1/1 /home/jovyan/PlanetaryComputerExamples/EYOpenScience/model_development_7_restart/challenge_1_submission_images/Validation_Post_Event_004.jpg: 512x512 10 undamagedresidentialbuildings, 4 damagedresidentialbuildings, 3278.6ms\n",
      "Speed: 16.4ms preprocess, 3278.6ms inference, 1.6ms postprocess per image at shape (1, 3, 512, 512)\n",
      "Results saved to \u001b[1mruns/detect/predict\u001b[0m\n",
      "7 labels saved to runs/detect/predict/labels\n",
      "Output files generated successfully.\n",
      "challenge_1_submission_images/Validation_Post_Event_003.jpg\n",
      "Making a prediction on  Validation_Post_Event_003.jpg\n",
      "\n",
      "image 1/1 /home/jovyan/PlanetaryComputerExamples/EYOpenScience/model_development_7_restart/challenge_1_submission_images/Validation_Post_Event_003.jpg: 512x512 3 undamagedcommercialbuildings, 8 undamagedresidentialbuildings, 5 damagedresidentialbuildings, 2915.5ms\n",
      "Speed: 61.8ms preprocess, 2915.5ms inference, 25.7ms postprocess per image at shape (1, 3, 512, 512)\n",
      "Results saved to \u001b[1mruns/detect/predict\u001b[0m\n",
      "8 labels saved to runs/detect/predict/labels\n",
      "Output files generated successfully.\n",
      "challenge_1_submission_images/Validation_Post_Event_011.jpg\n",
      "Making a prediction on  Validation_Post_Event_011.jpg\n",
      "\n",
      "image 1/1 /home/jovyan/PlanetaryComputerExamples/EYOpenScience/model_development_7_restart/challenge_1_submission_images/Validation_Post_Event_011.jpg: 512x512 5 undamagedcommercialbuildings, 10 undamagedresidentialbuildings, 3 damagedresidentialbuildings, 3338.3ms\n",
      "Speed: 74.2ms preprocess, 3338.3ms inference, 58.0ms postprocess per image at shape (1, 3, 512, 512)\n",
      "Results saved to \u001b[1mruns/detect/predict\u001b[0m\n",
      "9 labels saved to runs/detect/predict/labels\n",
      "Output files generated successfully.\n",
      "challenge_1_submission_images/Validation_Post_Event_001.jpg\n",
      "Making a prediction on  Validation_Post_Event_001.jpg\n",
      "\n",
      "image 1/1 /home/jovyan/PlanetaryComputerExamples/EYOpenScience/model_development_7_restart/challenge_1_submission_images/Validation_Post_Event_001.jpg: 512x512 2 undamagedcommercialbuildings, 30 undamagedresidentialbuildings, 5 damagedresidentialbuildings, 3806.0ms\n",
      "Speed: 60.6ms preprocess, 3806.0ms inference, 1.5ms postprocess per image at shape (1, 3, 512, 512)\n",
      "Results saved to \u001b[1mruns/detect/predict\u001b[0m\n",
      "10 labels saved to runs/detect/predict/labels\n",
      "Output files generated successfully.\n",
      "challenge_1_submission_images/Validation_Post_Event_007.jpg\n",
      "Making a prediction on  Validation_Post_Event_007.jpg\n",
      "\n",
      "image 1/1 /home/jovyan/PlanetaryComputerExamples/EYOpenScience/model_development_7_restart/challenge_1_submission_images/Validation_Post_Event_007.jpg: 512x512 2 undamagedcommercialbuildings, 32 undamagedresidentialbuildings, 8 damagedresidentialbuildings, 2140.8ms\n",
      "Speed: 66.4ms preprocess, 2140.8ms inference, 4.4ms postprocess per image at shape (1, 3, 512, 512)\n",
      "Results saved to \u001b[1mruns/detect/predict\u001b[0m\n",
      "11 labels saved to runs/detect/predict/labels\n",
      "Output files generated successfully.\n",
      "challenge_1_submission_images/Validation_Post_Event_009.jpg\n",
      "Making a prediction on  Validation_Post_Event_009.jpg\n",
      "\n",
      "image 1/1 /home/jovyan/PlanetaryComputerExamples/EYOpenScience/model_development_7_restart/challenge_1_submission_images/Validation_Post_Event_009.jpg: 512x512 2 damagedcommercialbuildings, 8 undamagedcommercialbuildings, 8 undamagedresidentialbuildings, 1 damagedresidentialbuilding, 4269.5ms\n",
      "Speed: 10.9ms preprocess, 4269.5ms inference, 25.0ms postprocess per image at shape (1, 3, 512, 512)\n",
      "Results saved to \u001b[1mruns/detect/predict\u001b[0m\n",
      "12 labels saved to runs/detect/predict/labels\n",
      "Output files generated successfully.\n"
     ]
    }
   ],
   "source": [
    "# Decoding according to the .yaml file class names order\n",
    "decoding_of_predictions ={0: 'damagedcommercialbuilding', 1: 'undamagedcommercialbuilding', 2: 'undamagedresidentialbuilding', 3: 'damagedresidentialbuilding'}\n",
    "\n",
    "directory = 'challenge_1_submission_images/'\n",
    "# Directory to store outputs\n",
    "results_directory = './Validation_Data_Results'\n",
    "\n",
    "# Create submission directory if it doesn't exist\n",
    "if not os.path.exists(results_directory):\n",
    "    os.makedirs(results_directory)\n",
    "\n",
    "# Loop through each file in the directory\n",
    "for filename in os.listdir(directory):\n",
    "    # Check if the current object is a file and ends with .jpeg\n",
    "    if os.path.isfile(os.path.join(directory, filename)) and filename.lower().endswith('.jpg'):\n",
    "        # Perform operations on the file\n",
    "        file_path = os.path.join(directory, filename)\n",
    "        print(file_path)\n",
    "        print(\"Making a prediction on \", filename)\n",
    "        results = model.predict(file_path, save=True, iou=0.5, save_txt=True, conf=0.25)\n",
    "        \n",
    "        for r in results:\n",
    "            conf_list = r.boxes.conf.numpy().tolist()\n",
    "            clss_list = r.boxes.cls.numpy().tolist()\n",
    "            original_list = clss_list\n",
    "            updated_list = []\n",
    "            for element in original_list:\n",
    "                 updated_list.append(decoding_of_predictions[int(element)])\n",
    "\n",
    "        bounding_boxes = r.boxes.xyxy.numpy()\n",
    "        confidences = conf_list\n",
    "        class_names = updated_list\n",
    "\n",
    "        # Check if bounding boxes, confidences and class names match\n",
    "        if len(bounding_boxes) != len(confidences) or len(bounding_boxes) != len(class_names):\n",
    "            print(\"Error: Number of bounding boxes, confidences, and class names should be the same.\")\n",
    "            continue\n",
    "        text_file_name = os.path.splitext(filename)[0]\n",
    "        # Creating a new .txt file for each image in the submission_directory\n",
    "        with open(os.path.join(results_directory, f\"{text_file_name}.txt\"), \"w\") as file:\n",
    "            for i in range(len(bounding_boxes)):\n",
    "                # Get coordinates of each bounding box\n",
    "                left, top, right, bottom = bounding_boxes[i]\n",
    "                # Write content to file in desired format\n",
    "                file.write(f\"{class_names[i]} {confidences[i]} {left} {top} {right} {bottom}\\n\")\n",
    "        print(\"Output files generated successfully.\")"
   ]
  },
  {
   "cell_type": "code",
   "execution_count": 6,
   "id": "41c1bdeb-0456-4c2d-bd51-8e6fcd9cebb4",
   "metadata": {
    "tags": []
   },
   "outputs": [
    {
     "name": "stdout",
     "output_type": "stream",
     "text": [
      "Directory ./Validation_Data_Results has been successfully zipped into submission.\n"
     ]
    }
   ],
   "source": [
    "# Define your source directory and the destination where the zip file will be created\n",
    "source_dir = results_directory\n",
    "destination_zip = 'submission'\n",
    "\n",
    "# Create a zip file from the directory\n",
    "shutil.make_archive(destination_zip, 'zip', source_dir)\n",
    "\n",
    "print(f\"Directory {source_dir} has been successfully zipped into {destination_zip}.\")"
   ]
  },
  {
   "cell_type": "code",
   "execution_count": null,
   "id": "ae90ff0b-6a37-43bf-be26-dc087e3fe3cf",
   "metadata": {},
   "outputs": [],
   "source": []
  }
 ],
 "metadata": {
  "kernelspec": {
   "display_name": "Python 3 (ipykernel)",
   "language": "python",
   "name": "python3"
  },
  "language_info": {
   "codemirror_mode": {
    "name": "ipython",
    "version": 3
   },
   "file_extension": ".py",
   "mimetype": "text/x-python",
   "name": "python",
   "nbconvert_exporter": "python",
   "pygments_lexer": "ipython3",
   "version": "3.11.4"
  }
 },
 "nbformat": 4,
 "nbformat_minor": 5
}
