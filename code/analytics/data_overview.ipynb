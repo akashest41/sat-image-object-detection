{
 "cells": [
  {
   "cell_type": "markdown",
   "id": "7661d9ef-fd24-410c-8c21-2039123ba835",
   "metadata": {},
   "source": [
    "# General Dataset Overview"
   ]
  },
  {
   "cell_type": "markdown",
   "id": "b59fd426-2d0f-42bf-a17a-3eb8dc3ff8a0",
   "metadata": {},
   "source": [
    "This notebook prepares a dataframe to get a general overview of the dataset in terms of the annotation types, bounding box areas and bounding box aspect ratios per image"
   ]
  },
  {
   "cell_type": "code",
   "execution_count": 89,
   "id": "f86e91f5-cf85-4298-bbf7-effc18df0a45",
   "metadata": {
    "tags": []
   },
   "outputs": [],
   "source": [
    "import os\n",
    "import json\n",
    "from PIL import Image\n",
    "import pandas as pd\n",
    "from tqdm import tqdm\n",
    "import numpy as np"
   ]
  },
  {
   "cell_type": "code",
   "execution_count": 90,
   "id": "268721e7-b325-4c60-b6f9-d3acf8fe7d9b",
   "metadata": {
    "tags": []
   },
   "outputs": [],
   "source": [
    "# Function to calculate bounding box area\n",
    "def calculate_bbox_area(bbox):\n",
    "    return (abs(bbox[0][0] - bbox[1][0])*abs(bbox[0][1] - bbox[1][1]))"
   ]
  },
  {
   "cell_type": "code",
   "execution_count": 91,
   "id": "bfe8ce3e-c93d-4f1c-9bab-4f60435610c1",
   "metadata": {
    "tags": []
   },
   "outputs": [],
   "source": [
    "# Function to calculate bounding box aspect ratio\n",
    "def calculate_bbox_aspect_ratio(bbox):\n",
    "    return (abs(bbox[0][0] - bbox[1][0]) / abs(bbox[0][1] - bbox[1][1]))"
   ]
  },
  {
   "cell_type": "code",
   "execution_count": 92,
   "id": "4bcc82d4-60bc-41e2-a1ab-8484d9e99a8e",
   "metadata": {
    "tags": []
   },
   "outputs": [],
   "source": [
    "# Initialize data for the dataframe\n",
    "data = {'Index': [], 'unR_Count': [], 'unR_Area_Mean': [], 'unR_Area_Std': [], 'unR_Aspect_Ratio_Mean': [], 'unR_Aspect_Ratio_Std': [],\n",
    "        'dR_Count': [], 'dR_Area_Mean': [], 'dR_Area_Std': [], 'dR_Aspect_Ratio_Mean': [], 'dR_Aspect_Ratio_Std': [],\n",
    "        'unC_Count': [], 'unC_Area_Mean': [], 'unC_Area_Std': [], 'unC_Aspect_Ratio_Mean': [], 'unC_Aspect_Ratio_Std': [],\n",
    "        'dC_Count': [], 'dC_Area_Mean': [], 'dC_Area_Std': [], 'dC_Aspect_Ratio_Mean': [], 'dC_Aspect_Ratio_Std': []}"
   ]
  },
  {
   "cell_type": "code",
   "execution_count": 93,
   "id": "8034e1fd-3804-468c-8292-4fbd1a4a021d",
   "metadata": {
    "tags": []
   },
   "outputs": [],
   "source": [
    "# !tar -xvf training_data_3.tar"
   ]
  },
  {
   "cell_type": "code",
   "execution_count": 94,
   "id": "8df7d63e-395f-43ab-9fc7-fd1afea21a13",
   "metadata": {
    "tags": []
   },
   "outputs": [],
   "source": [
    "# Path to your directory containing JPG and JSON files\n",
    "directory_path = './training_data_3'"
   ]
  },
  {
   "cell_type": "code",
   "execution_count": 95,
   "id": "836dccde-06c9-42bf-85f1-a80bc4acc878",
   "metadata": {
    "tags": []
   },
   "outputs": [],
   "source": [
    "# Iterate through files in the directory\n",
    "for filename in os.listdir(directory_path):\n",
    "    if filename.endswith(\"json\"):\n",
    "        # Extract index from the filename\n",
    "        index = int(filename.split(\"_\")[2][:4])\n",
    "\n",
    "        # Read JSON file\n",
    "        json_path = os.path.join(directory_path, filename)\n",
    "        if os.path.exists(json_path):\n",
    "            with open(json_path) as json_file:\n",
    "                data_json = json.load(json_file)\n",
    "\n",
    "            # Initialize counters and accumulators for each class\n",
    "            class_counts = [0, 0, 0, 0]\n",
    "            class_areas = [[], [], [], []]\n",
    "            class_aspect_ratios = [[], [], [], []]\n",
    "            class_index_dict = {\"undamagedresidentialbuilding\": [0,\"unR\"], \n",
    "                            \"damagedresidentialbuilding\": [1, \"dR\"],\n",
    "                           \"undamagedcommercialbuilding\": [2, \"unC\"], \n",
    "                            \"damagedcommercialbuilding\": [3, \"dC\"]}\n",
    "\n",
    "            # Process annotations in the JSON file\n",
    "            for annotation in data_json[\"shapes\"]:\n",
    "                class_label = annotation[\"label\"]\n",
    "                class_index = class_index_dict[class_label][0]\n",
    "                class_counts[class_index] += 1\n",
    "\n",
    "                bbox = annotation[\"points\"]\n",
    "                bbox_area = calculate_bbox_area(bbox)\n",
    "                class_areas[class_index].append(bbox_area)\n",
    "\n",
    "                aspect_ratio = calculate_bbox_aspect_ratio(bbox)\n",
    "                class_aspect_ratios[class_index].append(aspect_ratio)\n",
    "\n",
    "            # Calculate means and std deviations for each class\n",
    "            for label in class_index_dict:\n",
    "                class_index = class_index_dict[label][0]\n",
    "                class_name = class_index_dict[label][1]\n",
    "                data[f'{class_name}_Count'].append(class_counts[class_index])\n",
    "                data[f'{class_name}_Area_Mean'].append(np.average(class_areas[class_index]) if class_counts[class_index] > 0 else np.NaN)\n",
    "                data[f'{class_name}_Area_Std'].append(np.std(class_areas[class_index]) if class_counts[class_index] > 0 else np.NaN)\n",
    "                data[f'{class_name}_Aspect_Ratio_Mean'].append(np.average(class_aspect_ratios[class_index]) if class_counts[class_index] > 0 else np.NaN)\n",
    "                data[f'{class_name}_Aspect_Ratio_Std'].append(np.std(class_aspect_ratios[class_index]) if class_counts[class_index] > 0 else np.NaN)\n",
    "\n",
    "            data['Index'].append(index)"
   ]
  },
  {
   "cell_type": "code",
   "execution_count": 96,
   "id": "d0e9caab-6e7a-4e8b-909a-ee65d6d9f6ff",
   "metadata": {
    "tags": []
   },
   "outputs": [],
   "source": [
    "# Create pandas DataFrame\n",
    "df = pd.DataFrame(data)"
   ]
  },
  {
   "cell_type": "code",
   "execution_count": 97,
   "id": "c2cadc00-6dfe-45d7-8d77-022e6f9d105b",
   "metadata": {
    "tags": []
   },
   "outputs": [
    {
     "data": {
      "text/html": [
       "<div>\n",
       "<style scoped>\n",
       "    .dataframe tbody tr th:only-of-type {\n",
       "        vertical-align: middle;\n",
       "    }\n",
       "\n",
       "    .dataframe tbody tr th {\n",
       "        vertical-align: top;\n",
       "    }\n",
       "\n",
       "    .dataframe thead th {\n",
       "        text-align: right;\n",
       "    }\n",
       "</style>\n",
       "<table border=\"1\" class=\"dataframe\">\n",
       "  <thead>\n",
       "    <tr style=\"text-align: right;\">\n",
       "      <th></th>\n",
       "      <th>Index</th>\n",
       "      <th>unR_Count</th>\n",
       "      <th>unR_Area_Mean</th>\n",
       "      <th>unR_Area_Std</th>\n",
       "      <th>unR_Aspect_Ratio_Mean</th>\n",
       "      <th>unR_Aspect_Ratio_Std</th>\n",
       "      <th>dR_Count</th>\n",
       "      <th>dR_Area_Mean</th>\n",
       "      <th>dR_Area_Std</th>\n",
       "      <th>dR_Aspect_Ratio_Mean</th>\n",
       "      <th>...</th>\n",
       "      <th>unC_Count</th>\n",
       "      <th>unC_Area_Mean</th>\n",
       "      <th>unC_Area_Std</th>\n",
       "      <th>unC_Aspect_Ratio_Mean</th>\n",
       "      <th>unC_Aspect_Ratio_Std</th>\n",
       "      <th>dC_Count</th>\n",
       "      <th>dC_Area_Mean</th>\n",
       "      <th>dC_Area_Std</th>\n",
       "      <th>dC_Aspect_Ratio_Mean</th>\n",
       "      <th>dC_Aspect_Ratio_Std</th>\n",
       "    </tr>\n",
       "  </thead>\n",
       "  <tbody>\n",
       "    <tr>\n",
       "      <th>0</th>\n",
       "      <td>43</td>\n",
       "      <td>7</td>\n",
       "      <td>2604.017857</td>\n",
       "      <td>424.038940</td>\n",
       "      <td>1.093020</td>\n",
       "      <td>0.444314</td>\n",
       "      <td>1</td>\n",
       "      <td>5295.833333</td>\n",
       "      <td>0.000000</td>\n",
       "      <td>0.504065</td>\n",
       "      <td>...</td>\n",
       "      <td>0</td>\n",
       "      <td>NaN</td>\n",
       "      <td>NaN</td>\n",
       "      <td>NaN</td>\n",
       "      <td>NaN</td>\n",
       "      <td>0</td>\n",
       "      <td>NaN</td>\n",
       "      <td>NaN</td>\n",
       "      <td>NaN</td>\n",
       "      <td>NaN</td>\n",
       "    </tr>\n",
       "    <tr>\n",
       "      <th>1</th>\n",
       "      <td>23</td>\n",
       "      <td>34</td>\n",
       "      <td>2417.087044</td>\n",
       "      <td>927.939689</td>\n",
       "      <td>0.998166</td>\n",
       "      <td>0.243002</td>\n",
       "      <td>5</td>\n",
       "      <td>3243.333333</td>\n",
       "      <td>534.323553</td>\n",
       "      <td>0.841729</td>\n",
       "      <td>...</td>\n",
       "      <td>0</td>\n",
       "      <td>NaN</td>\n",
       "      <td>NaN</td>\n",
       "      <td>NaN</td>\n",
       "      <td>NaN</td>\n",
       "      <td>0</td>\n",
       "      <td>NaN</td>\n",
       "      <td>NaN</td>\n",
       "      <td>NaN</td>\n",
       "      <td>NaN</td>\n",
       "    </tr>\n",
       "    <tr>\n",
       "      <th>2</th>\n",
       "      <td>38</td>\n",
       "      <td>0</td>\n",
       "      <td>NaN</td>\n",
       "      <td>NaN</td>\n",
       "      <td>NaN</td>\n",
       "      <td>NaN</td>\n",
       "      <td>0</td>\n",
       "      <td>NaN</td>\n",
       "      <td>NaN</td>\n",
       "      <td>NaN</td>\n",
       "      <td>...</td>\n",
       "      <td>3</td>\n",
       "      <td>29846.821426</td>\n",
       "      <td>5560.950945</td>\n",
       "      <td>2.005627</td>\n",
       "      <td>1.363291</td>\n",
       "      <td>0</td>\n",
       "      <td>NaN</td>\n",
       "      <td>NaN</td>\n",
       "      <td>NaN</td>\n",
       "      <td>NaN</td>\n",
       "    </tr>\n",
       "    <tr>\n",
       "      <th>3</th>\n",
       "      <td>8</td>\n",
       "      <td>5</td>\n",
       "      <td>4213.888889</td>\n",
       "      <td>2141.167843</td>\n",
       "      <td>0.948864</td>\n",
       "      <td>0.069079</td>\n",
       "      <td>0</td>\n",
       "      <td>NaN</td>\n",
       "      <td>NaN</td>\n",
       "      <td>NaN</td>\n",
       "      <td>...</td>\n",
       "      <td>4</td>\n",
       "      <td>13662.705411</td>\n",
       "      <td>8475.486953</td>\n",
       "      <td>1.042112</td>\n",
       "      <td>0.312107</td>\n",
       "      <td>0</td>\n",
       "      <td>NaN</td>\n",
       "      <td>NaN</td>\n",
       "      <td>NaN</td>\n",
       "      <td>NaN</td>\n",
       "    </tr>\n",
       "    <tr>\n",
       "      <th>4</th>\n",
       "      <td>12</td>\n",
       "      <td>0</td>\n",
       "      <td>NaN</td>\n",
       "      <td>NaN</td>\n",
       "      <td>NaN</td>\n",
       "      <td>NaN</td>\n",
       "      <td>0</td>\n",
       "      <td>NaN</td>\n",
       "      <td>NaN</td>\n",
       "      <td>NaN</td>\n",
       "      <td>...</td>\n",
       "      <td>3</td>\n",
       "      <td>36352.408812</td>\n",
       "      <td>2456.722301</td>\n",
       "      <td>0.755648</td>\n",
       "      <td>0.311375</td>\n",
       "      <td>1</td>\n",
       "      <td>19150.694444</td>\n",
       "      <td>0.0</td>\n",
       "      <td>2.321101</td>\n",
       "      <td>0.0</td>\n",
       "    </tr>\n",
       "  </tbody>\n",
       "</table>\n",
       "<p>5 rows × 21 columns</p>\n",
       "</div>"
      ],
      "text/plain": [
       "   Index  unR_Count  unR_Area_Mean  unR_Area_Std  unR_Aspect_Ratio_Mean  \\\n",
       "0     43          7    2604.017857    424.038940               1.093020   \n",
       "1     23         34    2417.087044    927.939689               0.998166   \n",
       "2     38          0            NaN           NaN                    NaN   \n",
       "3      8          5    4213.888889   2141.167843               0.948864   \n",
       "4     12          0            NaN           NaN                    NaN   \n",
       "\n",
       "   unR_Aspect_Ratio_Std  dR_Count  dR_Area_Mean  dR_Area_Std  \\\n",
       "0              0.444314         1   5295.833333     0.000000   \n",
       "1              0.243002         5   3243.333333   534.323553   \n",
       "2                   NaN         0           NaN          NaN   \n",
       "3              0.069079         0           NaN          NaN   \n",
       "4                   NaN         0           NaN          NaN   \n",
       "\n",
       "   dR_Aspect_Ratio_Mean  ...  unC_Count  unC_Area_Mean  unC_Area_Std  \\\n",
       "0              0.504065  ...          0            NaN           NaN   \n",
       "1              0.841729  ...          0            NaN           NaN   \n",
       "2                   NaN  ...          3   29846.821426   5560.950945   \n",
       "3                   NaN  ...          4   13662.705411   8475.486953   \n",
       "4                   NaN  ...          3   36352.408812   2456.722301   \n",
       "\n",
       "   unC_Aspect_Ratio_Mean  unC_Aspect_Ratio_Std  dC_Count  dC_Area_Mean  \\\n",
       "0                    NaN                   NaN         0           NaN   \n",
       "1                    NaN                   NaN         0           NaN   \n",
       "2               2.005627              1.363291         0           NaN   \n",
       "3               1.042112              0.312107         0           NaN   \n",
       "4               0.755648              0.311375         1  19150.694444   \n",
       "\n",
       "   dC_Area_Std  dC_Aspect_Ratio_Mean  dC_Aspect_Ratio_Std  \n",
       "0          NaN                   NaN                  NaN  \n",
       "1          NaN                   NaN                  NaN  \n",
       "2          NaN                   NaN                  NaN  \n",
       "3          NaN                   NaN                  NaN  \n",
       "4          0.0              2.321101                  0.0  \n",
       "\n",
       "[5 rows x 21 columns]"
      ]
     },
     "execution_count": 97,
     "metadata": {},
     "output_type": "execute_result"
    }
   ],
   "source": [
    "df.head()"
   ]
  },
  {
   "cell_type": "code",
   "execution_count": 98,
   "id": "aa58adf1-7d09-45f9-9616-13ccf0b44ccb",
   "metadata": {
    "tags": []
   },
   "outputs": [],
   "source": [
    "df.to_csv('./training_data_3_stats_general.csv', index=False)"
   ]
  },
  {
   "cell_type": "code",
   "execution_count": null,
   "id": "79743ab8-e4e8-4af5-9875-e36d7eeeb933",
   "metadata": {},
   "outputs": [],
   "source": []
  }
 ],
 "metadata": {
  "kernelspec": {
   "display_name": "Python 3 (ipykernel)",
   "language": "python",
   "name": "python3"
  },
  "language_info": {
   "codemirror_mode": {
    "name": "ipython",
    "version": 3
   },
   "file_extension": ".py",
   "mimetype": "text/x-python",
   "name": "python",
   "nbconvert_exporter": "python",
   "pygments_lexer": "ipython3",
   "version": "3.11.4"
  }
 },
 "nbformat": 4,
 "nbformat_minor": 5
}
