{
 "cells": [
  {
   "cell_type": "markdown",
   "id": "2e4193c8-73b0-418b-8ef8-54dfb1b0a8b1",
   "metadata": {},
   "source": [
    "We first import the required libraries for tiling generation and footprint overlaying."
   ]
  },
  {
   "cell_type": "code",
   "execution_count": 18,
   "id": "f0e5840f-c201-4a0d-8fab-dd89f5f54926",
   "metadata": {
    "tags": []
   },
   "outputs": [],
   "source": [
    "#Suppress warnings\n",
    "import warnings\n",
    "warnings.filterwarnings('ignore')\n",
    "\n",
    "#For GeoTIFF images\n",
    "import rasterio\n",
    "from rasterio.plot import show\n",
    "from osgeo import gdal, ogr, osr\n",
    "import geopandas as gpd\n",
    "\n",
    "#For Visualisation\n",
    "from matplotlib import pyplot as plt\n",
    "import matplotlib.image as img\n",
    "from matplotlib.pyplot import figure\n",
    "from PIL import Image\n",
    "%matplotlib inline\n",
    "\n",
    "# Others\n",
    "import os\n",
    "import shutil\n",
    "import zipfile\n",
    "from tqdm import tqdm\n",
    "import pandas as pd\n",
    "import numpy as np\n",
    "from sklearn.model_selection import train_test_split\n",
    "import csv"
   ]
  },
  {
   "cell_type": "markdown",
   "id": "2ddaacbe-f9ae-4152-81d5-6680bb78a30e",
   "metadata": {},
   "source": [
    "Here, we sample tiles around a particular ROI in both pre and post event images"
   ]
  },
  {
   "cell_type": "markdown",
   "id": "85db8136-7227-4c70-bb46-fd850310b788",
   "metadata": {},
   "source": [
    "Sampling regions were selected by avoiding cloud covers and coastal areas as they are largely missing from the validation test"
   ]
  },
  {
   "cell_type": "markdown",
   "id": "14652129-d5f6-4003-b825-9f8a7464fcb7",
   "metadata": {},
   "source": [
    "We ensured a balanced mix of residential and commerical buildings in our training set. Images with mostly residential, mostly commerical and both were also ensured. We try to also have a good mix of images with and without vegetation cover present in the nearby areas as nearby damaged vegetation can bias either of the two models, i.e., no-damage-pre-event-model will likely fail to predict any buildings and damaged-inclusive-post-event-model will likely fail to predict some damage in buildings with nearby seemingly, or fairly, undamaged green areas."
   ]
  },
  {
   "cell_type": "markdown",
   "id": "1f262dcf-ba75-4041-8295-ce17c3c6bff1",
   "metadata": {},
   "source": [
    "Selected sampling regions are available in the git folder (**TO DO!!!**)"
   ]
  },
  {
   "cell_type": "markdown",
   "id": "b64bf057-bc1a-414d-b549-cea97a646fa1",
   "metadata": {},
   "source": [
    "Manually selected sampling cells from the post event image have the following x and y axis values. These are indicated such that the top left corner of the image is the origin, positive x is along the left, positive y is along the bottom, and the bottom right corner is (1,1).\n",
    "1. xmin: 382, xmax: 452, ymin: 278, ymax: 349\n",
    "2. xmin: 259, xmax: 331, ymin: 435, ymax: 506\n",
    "3. xmin: 276, xmax: 347, ymin: 596, ymax: 667\n",
    "4. xmin: 39, xmax: 78, ymin: 766, ymax: 799\n",
    "5. xmin: 192, xmax: 230, ymin: 637, ymax: 670"
   ]
  },
  {
   "cell_type": "code",
   "execution_count": 2,
   "id": "83241955-a2ab-44ab-b46c-8533b8ed75a8",
   "metadata": {
    "tags": []
   },
   "outputs": [],
   "source": [
    "#each cell corresponds to the xmin, xmax, ymin, ymax value taken from above\n",
    "selected_cells = [[382, 452, 278, 349],\n",
    "                  [259, 331, 435, 506],\n",
    "                  [276, 347, 596, 667],\n",
    "                  [39,78,766,799],\n",
    "                  [192,230,637,670]] \n",
    "x_limit = 642 #inferred from the post event image screenshot\n",
    "y_limit = 1234 #inferred from the post event image screenshot\n",
    "selected_cells = [[xmin/x_limit, xmax/x_limit, ymin/y_limit, ymax/y_limit] \n",
    "                  for xmin, xmax, ymin, ymax in selected_cells]"
   ]
  },
  {
   "cell_type": "markdown",
   "id": "37412731-ca4c-4432-aedc-460665121dde",
   "metadata": {
    "tags": []
   },
   "source": [
    "We no modify the generate tiles function given to use by passing the above selected_cells matrix, to make sure we only generate the tiles which are within our selected regions of interest."
   ]
  },
  {
   "cell_type": "code",
   "execution_count": 3,
   "id": "33fe447c-3e46-4d58-9f91-04d14031d9ab",
   "metadata": {
    "tags": []
   },
   "outputs": [],
   "source": [
    "def sample_tiles(input_file,output_dir,grid_x,grid_y,roi_matrix):\n",
    "    ds = gdal.Open(input_file)\n",
    "\n",
    "    # Get image size and number of bands\n",
    "    width = ds.RasterXSize\n",
    "    height = ds.RasterYSize\n",
    "    num_bands = ds.RasterCount\n",
    "\n",
    "    # Calculate number of tiles in each dimension\n",
    "    num_tiles_x = (width // grid_x)\n",
    "    num_tiles_y = (height // grid_y)\n",
    "\n",
    "    # Create output directory if it doesn't exist\n",
    "    os.makedirs(output_dir, exist_ok=True)\n",
    "\n",
    "    # Iterate over each tile and save as a separate TIFF image\n",
    "    for xmin, xmax, ymin, ymax in roi_matrix:\n",
    "        for i in tqdm(range(int(xmin*num_tiles_x),int(xmax*num_tiles_x))):\n",
    "            for j in range(int(ymin*num_tiles_y),int(ymax*num_tiles_y)):\n",
    "                x_offset = i *  grid_x\n",
    "                y_offset = j *  grid_y\n",
    "\n",
    "                tile_width = min(grid_x, width - x_offset)\n",
    "                tile_height = min(grid_y, height - y_offset)\n",
    "\n",
    "                tile = []\n",
    "                for band in range(1, num_bands + 1):\n",
    "                    tile_data = ds.GetRasterBand(band).ReadAsArray(x_offset, y_offset, tile_width, tile_height)\n",
    "                    tile.append(tile_data)\n",
    "\n",
    "                # Create output filename\n",
    "                output_file = os.path.join(output_dir, f\"tile_{i}_{j}.tif\")\n",
    "                \n",
    "                # Create an output TIFF file with same CRS and band values range\n",
    "                driver = gdal.GetDriverByName(\"GTiff\")\n",
    "                options = ['COMPRESS=DEFLATE', 'PREDICTOR=2', 'TILED=YES']\n",
    "                out_ds = driver.Create(output_file, tile_width, tile_height, num_bands, \n",
    "                           ds.GetRasterBand(1).DataType, options=options)\n",
    "\n",
    "                # Set the geotransform\n",
    "                geotransform = list(ds.GetGeoTransform())\n",
    "                geotransform[0] = geotransform[0] + x_offset * geotransform[1]\n",
    "                geotransform[3] = geotransform[3] + y_offset * geotransform[5]\n",
    "                out_ds.SetGeoTransform(tuple(geotransform))\n",
    "\n",
    "                # Set the projection\n",
    "                out_ds.SetProjection(ds.GetProjection())\n",
    "\n",
    "                # Write each band to the output file\n",
    "                for band in range(1, num_bands + 1):\n",
    "                    out_band = out_ds.GetRasterBand(band)\n",
    "                    out_band.WriteArray(tile[band - 1])\n",
    "\n",
    "                # Close the output file\n",
    "                out_ds = None\n",
    "\n",
    "    print(\"Tiles generation completed.\")"
   ]
  },
  {
   "cell_type": "code",
   "execution_count": 4,
   "id": "cff9c891-3c55-4322-94ea-42d958223cee",
   "metadata": {
    "tags": []
   },
   "outputs": [],
   "source": [
    "input_file = \"./Post_Event_San_Juan.tif\"\n",
    "output_dir = \"./Post_Event_Sampling_In_TIFF\"\n",
    "grid_x = 512\n",
    "grid_y = 512\n",
    "# sample_tiles(input_file, output_dir,grid_x,grid_y,selected_cells)"
   ]
  },
  {
   "cell_type": "code",
   "execution_count": 5,
   "id": "3e9d7d2f-8747-45ab-b881-1521b42d0551",
   "metadata": {
    "tags": []
   },
   "outputs": [],
   "source": [
    "def visualize_samples(input_file,output_dir,grid_x,grid_y,roi):\n",
    "    ds = gdal.Open(input_file)\n",
    "\n",
    "    # Get image size and number of bands\n",
    "    width = ds.RasterXSize\n",
    "    height = ds.RasterYSize\n",
    "    num_bands = ds.RasterCount\n",
    "\n",
    "    # Calculate number of tiles in each dimension\n",
    "    num_tiles_x = (width // grid_x)\n",
    "    num_tiles_y = (height // grid_y)\n",
    "\n",
    "    tif_files = []\n",
    "    for xmin, xmax, ymin, ymax in [roi]:\n",
    "        for i in range(int(xmin*num_tiles_x),int(xmax*num_tiles_x)):\n",
    "            for j in range(int(ymin*num_tiles_y),int(ymax*num_tiles_y)):\n",
    "\n",
    "                tif_files.append(os.path.join(output_dir, f\"tile_{i}_{j}.tif\"))\n",
    "            \n",
    "    fig, ax = plt.subplots(len(tif_files), 1, figsize=(6, 2 * len(tif_files)))\n",
    "    \n",
    "    # Loop through each .tif file and plot it along the column\n",
    "    for i, tif_file in enumerate(tif_files):\n",
    "        # Load the image using PIL\n",
    "        img = Image.open(tif_file)\n",
    "\n",
    "        # Display the image\n",
    "        ax[i].imshow(img)\n",
    "        ax[i].set_title(tif_file)\n",
    "        ax[i].axis('off')\n",
    "\n",
    "    # Adjust layout and show the plot\n",
    "    plt.tight_layout()\n",
    "    plt.show()           "
   ]
  },
  {
   "cell_type": "code",
   "execution_count": 6,
   "id": "6d2a305b-cce3-493b-b321-1a24173ba9fa",
   "metadata": {
    "tags": []
   },
   "outputs": [],
   "source": [
    "input_file = \"./Post_Event_San_Juan.tif\"\n",
    "output_dir = \"./Post_Event_Sampling_In_TIFF\"\n",
    "grid_x = 512\n",
    "grid_y = 512\n",
    "# visualize_samples(input_file,output_dir,grid_x,grid_y,selected_cells[4])"
   ]
  },
  {
   "cell_type": "code",
   "execution_count": 7,
   "id": "14a999a6-dc9d-4516-943a-20075d3c4663",
   "metadata": {
    "tags": []
   },
   "outputs": [],
   "source": [
    "# Read the CSV file\n",
    "csv_path = './post_event_annotation_selected_tiles.csv'\n",
    "df = pd.read_csv(csv_path)\n",
    "\n",
    "# Exclude the first row (column names) from the analysis\n",
    "data = df.iloc[1:]\n",
    "\n",
    "# Split the data into two sets randomly\n",
    "# akash_set, mike_set = train_test_split(data, test_size=0.5, random_state=42)"
   ]
  },
  {
   "cell_type": "code",
   "execution_count": 8,
   "id": "1dbfbb80-806e-4b13-b944-5f7d1a6dd23e",
   "metadata": {
    "tags": []
   },
   "outputs": [],
   "source": [
    "# akash_set.to_csv('./akash_set_post_event_512_512.csv', index=False)"
   ]
  },
  {
   "cell_type": "code",
   "execution_count": 9,
   "id": "840f4d04-f88e-4885-bb09-44821c22b851",
   "metadata": {
    "tags": []
   },
   "outputs": [],
   "source": [
    "# mike_set.to_csv('./mike_set_post_event_512_512.csv', index=False)"
   ]
  },
  {
   "cell_type": "markdown",
   "id": "50f02fc3-fd2a-4571-8735-9fa7ae4f8445",
   "metadata": {},
   "source": [
    "Manually selected sampling cells from the pre event image have the following x and y axis values. These are indicated such that the top left corner of the image is the origin, positive x is along the left, positive y is along the bottom, and the bottom right corner is (1,1).\n",
    "1. xmin: 195, xmax: 319, ymin: 261, ymax: 334\n",
    "2. xmin: 135, xmax: 213, ymin: 415, ymax: 481\n",
    "3. xmin: 128, xmax: 206, ymin: 557, ymax: 627\n",
    "4. xmin: 389, xmax: 466, ymin: 546, ymax: 618\n",
    "5. xmin: 268, xmax: 345, ymin: 620, ymax: 691\n",
    "6. xmin: 248, xmax: 325, ymin: 720, ymax: 795"
   ]
  },
  {
   "cell_type": "code",
   "execution_count": 10,
   "id": "7f76387f-ed8c-4944-b4b4-46773e0e6827",
   "metadata": {
    "tags": []
   },
   "outputs": [],
   "source": [
    "#each cell corresponds to the xmin, xmax, ymin, ymax value taken from above\n",
    "pre_event_selected_cells = [[195, 319, 261, 334],\n",
    "                  [135, 213, 415, 481],\n",
    "                  [128, 206, 557, 627],\n",
    "                  [389,466,546,618],\n",
    "                  [268,345,620,691],\n",
    "                           [248,325,720,795]] \n",
    "x_limit = 636 #inferred from the pre event image screenshot\n",
    "y_limit = 1240 #inferred from the pre event image screenshot\n",
    "pre_event_selected_cells = [[xmin/x_limit, xmax/x_limit, ymin/y_limit, ymax/y_limit] \n",
    "                  for xmin, xmax, ymin, ymax in pre_event_selected_cells]"
   ]
  },
  {
   "cell_type": "code",
   "execution_count": 11,
   "id": "ed6330c4-0268-4a58-bc2c-57ca8521b166",
   "metadata": {
    "tags": []
   },
   "outputs": [],
   "source": [
    "input_file = \"./Pre_Event_San_Juan.tif\"\n",
    "output_dir = \"./Pre_Event_Sampling_In_TIFF\"\n",
    "grid_x = 512\n",
    "grid_y = 512\n",
    "# sample_tiles(input_file, output_dir,grid_x,grid_y,pre_event_selected_cells)"
   ]
  },
  {
   "cell_type": "code",
   "execution_count": 12,
   "id": "dbfacc8b-7d27-4eed-b5c0-4bd5066b4b85",
   "metadata": {
    "tags": []
   },
   "outputs": [],
   "source": [
    "input_file = \"./Pre_Event_San_Juan.tif\"\n",
    "output_dir = \"./Pre_Event_Sampling_In_TIFF\"\n",
    "grid_x = 512\n",
    "grid_y = 512\n",
    "# visualize_samples(input_file,output_dir,grid_x,grid_y,pre_event_selected_cells[1])"
   ]
  },
  {
   "cell_type": "code",
   "execution_count": 21,
   "id": "e4e749c1-2d2a-4eed-9dc1-6912bb2c717a",
   "metadata": {},
   "outputs": [],
   "source": [
    "def convert_tiff_to_jpeg_and_rename(input_dir,output_dir,dataset_path,prefix,start):\n",
    "    # check if output_dir exists, if not create it\n",
    "    if not os.path.exists(output_dir):\n",
    "        os.makedirs(output_dir)\n",
    "        \n",
    "    # Specify the path to the CSV file\n",
    "    csv_file_path = dataset_path\n",
    "    \n",
    "    # Directory containing the TIFF files\n",
    "    tiff_directory = input_dir\n",
    "    \n",
    "    number = start\n",
    "    \n",
    "    file_extension = '.jpg'\n",
    "    \n",
    "    with open(csv_file_path, 'r') as csvfile:\n",
    "        csv_reader = csv.reader(csvfile)\n",
    "        next(csv_reader, None)\n",
    "        for row in tqdm(csv_reader, desc=\"Processing Dataset\"):\n",
    "            i, j = map(int, row)\n",
    "            file_name = f\"tile_{i}_{j}.tif\"\n",
    "            tiff_file_path = os.path.join(tiff_directory, file_name)\n",
    "            img = Image.open(tiff_file_path)\n",
    "            # check if image is RGB mode, if not convert it\n",
    "            if img.mode != 'RGB':\n",
    "                img = img.convert('RGB')\n",
    "                \n",
    "            output_filename = f\"{prefix}{number:04}{file_extension}\"\n",
    "            \n",
    "            img.save(os.path.join(output_dir, output_filename), 'JPEG')\n",
    "            \n",
    "            number += 1\n",
    "    \n",
    "    print(\"Conversion from TIFF to JPEG completed.\")"
   ]
  },
  {
   "cell_type": "code",
   "execution_count": 22,
   "id": "28f8a964-2dff-4725-a53a-b8c8d6c1fb38",
   "metadata": {
    "tags": []
   },
   "outputs": [
    {
     "name": "stderr",
     "output_type": "stream",
     "text": [
      "Processing Dataset: 46it [00:00, 52.70it/s]"
     ]
    },
    {
     "name": "stdout",
     "output_type": "stream",
     "text": [
      "Conversion from TIFF to JPEG completed.\n"
     ]
    },
    {
     "name": "stderr",
     "output_type": "stream",
     "text": [
      "\n"
     ]
    }
   ],
   "source": [
    "input_dir = './Post_Event_Sampling_In_TIFF/'\n",
    "output_dir = './Post_Event_Samples_Akash_512_512'\n",
    "dataset_path = './akash_set_post_event_512_512.csv'\n",
    "prefix = 'Post_Event_'\n",
    "start = 0\n",
    "convert_tiff_to_jpeg_and_rename(input_dir,output_dir,dataset_path,prefix,start)"
   ]
  },
  {
   "cell_type": "markdown",
   "id": "ecdaf001-1661-46bd-af7b-4d44fef01f7a",
   "metadata": {},
   "source": [
    "For the images which are being annotated, we now generate the same tiles but those which have building footprints overlaid on them so that the annotation process becomes easier."
   ]
  },
  {
   "cell_type": "code",
   "execution_count": 23,
   "id": "4ac93247-cb8c-4630-8b06-cafe9fc1268c",
   "metadata": {
    "tags": []
   },
   "outputs": [],
   "source": [
    "def sample_tiles_with_footprints(input_file,output_dir,grid_x,grid_y,dataset_path,shapefile_path,start,prefix):\n",
    "    ds = gdal.Open(input_file)\n",
    "\n",
    "    # Get image size and number of bands\n",
    "    width = ds.RasterXSize\n",
    "    height = ds.RasterYSize\n",
    "    num_bands = ds.RasterCount\n",
    "\n",
    "    # Calculate number of tiles in each dimension\n",
    "    num_tiles_x = (width // grid_x)\n",
    "    num_tiles_y = (height // grid_y)\n",
    "\n",
    "    # Create output directory if it doesn't exist\n",
    "    os.makedirs(output_dir, exist_ok=True)\n",
    "    \n",
    "    # Open the shapefile and get the layer\n",
    "    shapefile_ds = ogr.Open(shapefile_path)\n",
    "    shp_layer = shapefile_ds.GetLayer()\n",
    "    \n",
    "     # Specify the path to the CSV file\n",
    "    csv_file_path = dataset_path\n",
    "    \n",
    "    number = start\n",
    "    \n",
    "    file_extension = '.tif'\n",
    "    \n",
    "    with open(csv_file_path, 'r') as csvfile:\n",
    "        \n",
    "        csv_reader = csv.reader(csvfile)\n",
    "        next(csv_reader, None)\n",
    "        \n",
    "        for row in tqdm(csv_reader, desc=\"Processing Dataset\"):\n",
    "            i, j = map(int, row)\n",
    "            x_offset = i *  grid_x\n",
    "            y_offset = j *  grid_y\n",
    "            tile_width = min(grid_x, width - x_offset)\n",
    "            tile_height = min(grid_y, height - y_offset)\n",
    "            tile = []\n",
    "            for band in range(1, num_bands + 1):\n",
    "                tile_data = ds.GetRasterBand(band).ReadAsArray(x_offset, y_offset, tile_width, tile_height)\n",
    "                tile.append(tile_data)\n",
    "            output_file = os.path.join(output_dir, f\"{prefix}{number:04}{file_extension}\")\n",
    "            \n",
    "            # Create an output TIFF file with same CRS and band values range\n",
    "            driver = gdal.GetDriverByName(\"GTiff\")\n",
    "            options = ['COMPRESS=DEFLATE', 'PREDICTOR=2', 'TILED=YES']\n",
    "            out_ds = driver.Create(output_file, tile_width, tile_height, num_bands, \n",
    "                           ds.GetRasterBand(1).DataType, options=options)\n",
    "            \n",
    "            # Set the geotransform\n",
    "            geotransform = list(ds.GetGeoTransform())\n",
    "            geotransform[0] = geotransform[0] + x_offset * geotransform[1]\n",
    "            geotransform[3] = geotransform[3] + y_offset * geotransform[5]\n",
    "            out_ds.SetGeoTransform(tuple(geotransform))\n",
    "            \n",
    "            out_ds.SetProjection(ds.GetProjection())\n",
    "            \n",
    "            # Write each band to the output file\n",
    "            for band in range(1, num_bands + 1):\n",
    "                out_band = out_ds.GetRasterBand(band)\n",
    "                out_band.WriteArray(tile[band - 1])\n",
    "                \n",
    "            gdal.RasterizeLayer(out_ds, [1], shp_layer, burn_values=[255], options=[\"ALL_TOUCHED=TRUE\"])\n",
    "                \n",
    "            out_ds = None\n",
    "            \n",
    "            number += 1\n",
    "    print(\"Generating sampled tiles with footprints overlaid completed.\")"
   ]
  },
  {
   "cell_type": "code",
   "execution_count": 24,
   "id": "7383f4c3-4a7b-461e-aa75-a3614ce37035",
   "metadata": {
    "tags": []
   },
   "outputs": [
    {
     "name": "stderr",
     "output_type": "stream",
     "text": [
      "Processing Dataset: 46it [01:51,  2.42s/it]"
     ]
    },
    {
     "name": "stdout",
     "output_type": "stream",
     "text": [
      "Generating sampled tiles with footprints overlaid completed.\n"
     ]
    },
    {
     "name": "stderr",
     "output_type": "stream",
     "text": [
      "\n"
     ]
    }
   ],
   "source": [
    "input_file = './Post_Event_San_Juan.tif'\n",
    "output_dir = './Post_Event_Samples_Akash_512_512/'\n",
    "grid_x = 512\n",
    "grid_y = 512\n",
    "dataset_path = './akash_set_post_event_512_512.csv'\n",
    "shapefile_path = './provided_footprints/building_footprint_roi_challenge.shp'\n",
    "start = 0\n",
    "prefix = 'Post_Event_'\n",
    "sample_tiles_with_footprints(input_file,output_dir,grid_x,grid_y,dataset_path,shapefile_path,start,prefix)"
   ]
  },
  {
   "cell_type": "code",
   "execution_count": 26,
   "id": "f5021744-cf6d-48f6-9f21-828f41e94d14",
   "metadata": {
    "tags": []
   },
   "outputs": [],
   "source": [
    "def map_post_samples_to_pre(input_file,output_dir,grid_x,grid_y,dataset_path,start,prefix):\n",
    "    ds = gdal.Open(input_file)\n",
    "\n",
    "    # Get image size and number of bands\n",
    "    width = ds.RasterXSize\n",
    "    height = ds.RasterYSize\n",
    "    num_bands = ds.RasterCount\n",
    "\n",
    "    # Calculate number of tiles in each dimension\n",
    "    num_tiles_x = (width // grid_x)\n",
    "    num_tiles_y = (height // grid_y)\n",
    "\n",
    "    # Create output directory if it doesn't exist\n",
    "    os.makedirs(output_dir, exist_ok=True)\n",
    "    \n",
    "     # Specify the path to the CSV file\n",
    "    csv_file_path = dataset_path\n",
    "    \n",
    "    number = start\n",
    "    \n",
    "    file_extension = '.tif'\n",
    "    \n",
    "    with open(csv_file_path, 'r') as csvfile:\n",
    "        \n",
    "        csv_reader = csv.reader(csvfile)\n",
    "        next(csv_reader, None)\n",
    "        \n",
    "        for row in tqdm(csv_reader, desc=\"Processing Dataset\"):\n",
    "            i, j = map(int, row)\n",
    "            x_offset = i *  grid_x\n",
    "            y_offset = j *  grid_y\n",
    "            tile_width = min(grid_x, width - x_offset)\n",
    "            tile_height = min(grid_y, height - y_offset)\n",
    "            tile = []\n",
    "            for band in range(1, num_bands + 1):\n",
    "                tile_data = ds.GetRasterBand(band).ReadAsArray(x_offset, y_offset, tile_width, tile_height)\n",
    "                tile.append(tile_data)\n",
    "            output_file = os.path.join(output_dir, f\"{prefix}{number:04}{file_extension}\")\n",
    "            \n",
    "            # Create an output TIFF file with same CRS and band values range\n",
    "            driver = gdal.GetDriverByName(\"GTiff\")\n",
    "            options = ['COMPRESS=DEFLATE', 'PREDICTOR=2', 'TILED=YES']\n",
    "            out_ds = driver.Create(output_file, tile_width, tile_height, num_bands, \n",
    "                           ds.GetRasterBand(1).DataType, options=options)\n",
    "            \n",
    "            # Set the geotransform\n",
    "            geotransform = list(ds.GetGeoTransform())\n",
    "            geotransform[0] = geotransform[0] + x_offset * geotransform[1]\n",
    "            geotransform[3] = geotransform[3] + y_offset * geotransform[5]\n",
    "            out_ds.SetGeoTransform(tuple(geotransform))\n",
    "            \n",
    "            out_ds.SetProjection(ds.GetProjection())\n",
    "            \n",
    "            # Write each band to the output file\n",
    "            for band in range(1, num_bands + 1):\n",
    "                out_band = out_ds.GetRasterBand(band)\n",
    "                out_band.WriteArray(tile[band - 1])\n",
    "                                \n",
    "            out_ds = None\n",
    "            \n",
    "            number += 1\n",
    "    print(\"Generated pre event tiles for post event samples.\")"
   ]
  },
  {
   "cell_type": "code",
   "execution_count": 27,
   "id": "39658b17-ba69-4d7c-97fb-7f77d784f725",
   "metadata": {
    "tags": []
   },
   "outputs": [
    {
     "name": "stderr",
     "output_type": "stream",
     "text": [
      "Processing Dataset: 46it [00:01, 26.05it/s]"
     ]
    },
    {
     "name": "stdout",
     "output_type": "stream",
     "text": [
      "Generated pre event tiles for post event samples.\n"
     ]
    },
    {
     "name": "stderr",
     "output_type": "stream",
     "text": [
      "\n"
     ]
    }
   ],
   "source": [
    "input_file = './Pre_Event_San_Juan.tif'\n",
    "output_dir = './Post_Event_Samples_Akash_512_512/'\n",
    "grid_x = 512\n",
    "grid_y = 512\n",
    "dataset_path = './akash_set_post_event_512_512.csv'\n",
    "start = 0\n",
    "prefix = 'Pre_Event_'\n",
    "map_post_samples_to_pre(input_file,output_dir,grid_x,grid_y,dataset_path,start,prefix)"
   ]
  },
  {
   "cell_type": "code",
   "execution_count": 29,
   "id": "7b892403-3a65-4b04-a56a-a8fc096502c0",
   "metadata": {
    "tags": []
   },
   "outputs": [],
   "source": [
    "# !tar -cvf Post_Event_Samples_Akash_512_512.tar ./Post_Event_Samples_Akash_512_512/"
   ]
  },
  {
   "cell_type": "code",
   "execution_count": null,
   "id": "67c3ec78-8c54-4022-bc76-45926cd24217",
   "metadata": {},
   "outputs": [],
   "source": []
  }
 ],
 "metadata": {
  "kernelspec": {
   "display_name": "Python 3 (ipykernel)",
   "language": "python",
   "name": "python3"
  },
  "language_info": {
   "codemirror_mode": {
    "name": "ipython",
    "version": 3
   },
   "file_extension": ".py",
   "mimetype": "text/x-python",
   "name": "python",
   "nbconvert_exporter": "python",
   "pygments_lexer": "ipython3",
   "version": "3.11.4"
  }
 },
 "nbformat": 4,
 "nbformat_minor": 5
}
