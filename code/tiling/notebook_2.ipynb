{
 "cells": [
  {
   "cell_type": "markdown",
   "id": "33ae6f20-ab89-4c02-af2f-975c19f87433",
   "metadata": {},
   "source": [
    "### Notebook explaining and going over the tiling process.\n",
    "Note: Not modular intentionally for now."
   ]
  },
  {
   "cell_type": "code",
   "execution_count": 1,
   "id": "b646f76a-8bbb-4aa1-be68-f0351c5d51b5",
   "metadata": {
    "tags": []
   },
   "outputs": [],
   "source": [
    "#Suppress warnings\n",
    "import warnings\n",
    "warnings.filterwarnings('ignore')"
   ]
  },
  {
   "cell_type": "code",
   "execution_count": 2,
   "id": "cbbc3f10-02b2-466f-9aa4-2087ce6b9892",
   "metadata": {
    "tags": []
   },
   "outputs": [],
   "source": [
    "#For GeoTIFF images\n",
    "import rasterio\n",
    "from rasterio.plot import show\n",
    "from osgeo import gdal"
   ]
  },
  {
   "cell_type": "code",
   "execution_count": 3,
   "id": "d9ae5028-7b62-4018-9756-35f0dc02f3e6",
   "metadata": {
    "tags": []
   },
   "outputs": [],
   "source": [
    "#For Visualisation\n",
    "from matplotlib import pyplot as plt\n",
    "import matplotlib.image as img\n",
    "from matplotlib.pyplot import figure\n",
    "from PIL import Image"
   ]
  },
  {
   "cell_type": "code",
   "execution_count": 4,
   "id": "03465be8-21f1-4972-a54a-0e99f747050d",
   "metadata": {
    "tags": []
   },
   "outputs": [],
   "source": [
    "# Model Building\n",
    "# import ultralytics\n",
    "# from ultralytics import YOLO\n",
    "# import labelme2yolo"
   ]
  },
  {
   "cell_type": "code",
   "execution_count": 5,
   "id": "0d868c90-d5aa-4c0e-9573-9eca4ab5e0bc",
   "metadata": {
    "tags": []
   },
   "outputs": [],
   "source": [
    "# Others\n",
    "import os\n",
    "import shutil\n",
    "import zipfile\n",
    "from tqdm import tqdm"
   ]
  },
  {
   "cell_type": "code",
   "execution_count": 6,
   "id": "1cb021a5-2ec4-4b33-bdd2-cdcec7c7afbf",
   "metadata": {
    "tags": []
   },
   "outputs": [],
   "source": [
    "pre_event_image = './Pre_Event_San_Juan.tif'\n",
    "post_event_image ='./Post_Event_San_Juan.tif'"
   ]
  },
  {
   "cell_type": "markdown",
   "id": "4a20a5b5-b77d-4d4b-adca-64f73d3a025d",
   "metadata": {},
   "source": [
    "# Tile Generation from the Pre Event Image"
   ]
  },
  {
   "cell_type": "code",
   "execution_count": 7,
   "id": "b94f3c0a-2911-4178-a20c-96d4d6d557e0",
   "metadata": {
    "tags": []
   },
   "outputs": [],
   "source": [
    "pre_event_file = gdal.Open(pre_event_image)"
   ]
  },
  {
   "cell_type": "code",
   "execution_count": 8,
   "id": "37ffb7ee-f0a2-43a1-9f69-d4e21383873a",
   "metadata": {
    "tags": []
   },
   "outputs": [
    {
     "data": {
      "text/plain": [
       "osgeo.gdal.Dataset"
      ]
     },
     "execution_count": 8,
     "metadata": {},
     "output_type": "execute_result"
    }
   ],
   "source": [
    "type(pre_event_file)"
   ]
  },
  {
   "cell_type": "code",
   "execution_count": 9,
   "id": "34125a16-a8d8-4c03-bc02-131bddbf457d",
   "metadata": {
    "tags": []
   },
   "outputs": [],
   "source": [
    "width = pre_event_file.RasterXSize #number of pixel columns"
   ]
  },
  {
   "cell_type": "code",
   "execution_count": 10,
   "id": "9d195449-c074-420b-b48b-b5ace984f477",
   "metadata": {
    "tags": []
   },
   "outputs": [],
   "source": [
    "height = pre_event_file.RasterYSize #number of pixel rows"
   ]
  },
  {
   "cell_type": "code",
   "execution_count": 11,
   "id": "d79d51c6-c416-48c7-9ad7-5331a81b5be6",
   "metadata": {
    "tags": []
   },
   "outputs": [],
   "source": [
    "num_bands = pre_event_file.RasterCount #number of spectral bands, 3 in this case"
   ]
  },
  {
   "cell_type": "code",
   "execution_count": 12,
   "id": "00ad8cab-9ea8-4dda-b64b-5280305a0cf6",
   "metadata": {
    "tags": []
   },
   "outputs": [],
   "source": [
    "#specify the grid size of each tile (likely in terms of pixel count along height and width\n",
    "grid_x = 512\n",
    "grid_y = 512"
   ]
  },
  {
   "cell_type": "code",
   "execution_count": 13,
   "id": "85cc6ab4-2bf9-4b90-85ea-1557d0791b93",
   "metadata": {
    "tags": []
   },
   "outputs": [
    {
     "name": "stdout",
     "output_type": "stream",
     "text": [
      "Total number of tiles: 10730\n"
     ]
    }
   ],
   "source": [
    "num_tiles_x = width // grid_x\n",
    "num_tiles_y = height // grid_y\n",
    "print(f\"Total number of tiles: {num_tiles_x * num_tiles_y}\")"
   ]
  },
  {
   "cell_type": "code",
   "execution_count": 22,
   "id": "9aa53af0-0dd1-4c30-8af4-676b4f25dae4",
   "metadata": {
    "tags": []
   },
   "outputs": [],
   "source": [
    "output_dir = \"Pre_Event_Grids_In_TIFF\"\n",
    "os.makedirs(output_dir, exist_ok=True)"
   ]
  },
  {
   "cell_type": "code",
   "execution_count": 29,
   "id": "52a6842d-0f70-4ab5-91f1-b94c744dc5dd",
   "metadata": {
    "tags": []
   },
   "outputs": [],
   "source": [
    "#tells what is the format in which pixel values are stored in each band\n",
    "#will return an integer where the mapping can be seen here: http://ikcest-drr.osgeo.cn/tutorial/k8023\n",
    "#in this case, it should be '1' which corresponds to an 8-bit unsigned integer\n",
    "valuetype = pre_event_file.GetRasterBand(1).DataType "
   ]
  },
  {
   "cell_type": "code",
   "execution_count": 30,
   "id": "bfffd5c2-f4d9-40a2-b721-8be37d45b602",
   "metadata": {
    "tags": []
   },
   "outputs": [],
   "source": [
    "#options for handling how each tile is stored \n",
    "#these are passed to a gdal driver, as below\n",
    "#most of these are meant for handling the compression of the tile file during output and how its eventually stored\n",
    "options = ['COMPRESS=DEFLATE', 'PREDICTOR=2', 'TILED=YES']"
   ]
  },
  {
   "cell_type": "code",
   "execution_count": 33,
   "id": "fd6c3311-90db-4e84-b378-f5278d35f4cc",
   "metadata": {
    "tags": []
   },
   "outputs": [],
   "source": [
    "#generates a 6-element tuple which contains the information on how each pixel in the image is mapped to actual spatial positions\n",
    "#the tuple information is as follows:\n",
    "#(ulx, xres, xskew, uly, yskew, yres)\n",
    "#ulx: X-coordinate of the upper left corner of the image in the real-world coordinate system\n",
    "#xres: Pixel width in real-world units (here, in meters). Positive values indicate increasing X to the right.\n",
    "#xskew: Skew in the X direction (usually 0).\n",
    "#uly: Y-coordinate of the upper left corner of the image in the real-world coordinate system.\n",
    "#yskew: Skew in the Y direction (usually 0).\n",
    "#yres: Pixel height in real-world units (here, in meters). Positive values indicate increasing Y downwards.\n",
    "\n",
    "#the same information can also be obtained if the GeoTIFF is read as a rasterio.io.DatasetReader object.\n",
    "#say, this object variable is called src, then src.transform will give us this same information but in a matrix form\n",
    "#then, the product of the src.transform matrix with any pixel location index will give the spatial location of that pixel in metres\n",
    "#the src.transform matrix is simply [[xres,xskew,ulx],[yskew,yres,uly]]\n",
    "geotransform = list(pre_event_file.GetGeoTransform())"
   ]
  },
  {
   "cell_type": "code",
   "execution_count": 35,
   "id": "04745fd6-275d-4e80-9137-b1c4103dfcd9",
   "metadata": {
    "tags": []
   },
   "outputs": [],
   "source": [
    "#specifies the coordinate reference system (CRS) which defines the origin for the spatial coordiantes obtained after applying the transformation matrix above\n",
    "projection = pre_event_file.GetProjection()"
   ]
  },
  {
   "cell_type": "code",
   "execution_count": 36,
   "id": "6a3c4523-27c3-4a5a-a867-17db398fbb53",
   "metadata": {
    "tags": []
   },
   "outputs": [
    {
     "name": "stdout",
     "output_type": "stream",
     "text": [
      "Tiles generation completed.\n"
     ]
    }
   ],
   "source": [
    "# Iterate over each tile and save as a separate TIFF image\n",
    "for i in range(num_tiles_x):\n",
    "    for j in range(num_tiles_y):\n",
    "        x_offset = i * grid_x\n",
    "        y_offset = j * grid_y\n",
    "        \n",
    "        tile_width = min(grid_x, width - x_offset)\n",
    "        tile_height = min(grid_y, height - y_offset)\n",
    "        \n",
    "        tile = [] #will collect the pixel values for the three bands for the current tile\n",
    "        for band in range(1, num_bands + 1):\n",
    "            # read pixel values for a specific tile and a specific band\n",
    "            tile_data = pre_event_file.GetRasterBand(band).ReadAsArray(x_offset, y_offset, tile_width, tile_height)\n",
    "            tile.append(tile_data)\n",
    "        \n",
    "        output_file = os.path.join(output_dir, f\"tile_{i}_{j}.tif\")\n",
    "        \n",
    "        # Create an output TIFF file with same CRS and band values range\n",
    "        driver = gdal.GetDriverByName(\"GTiff\") #driver for handling GeoTIFF files\n",
    "        out_ds = driver.Create(output_file, tile_width, tile_height, num_bands, \n",
    "                       valuetype, options=options)\n",
    "\n",
    "        # Set the geotransform\n",
    "        tilegeotransform = geotransform\n",
    "        tilegeotransform[0] = geotransform[0] + x_offset * geotransform[1]\n",
    "        tilegeotransform[3] = geotransform[3] + y_offset * geotransform[5]\n",
    "        out_ds.SetGeoTransform(tuple(tilegeotransform))\n",
    "        \n",
    "        # Set the projection\n",
    "        out_ds.SetProjection(projection)\n",
    "        \n",
    "        # Write each band to the output file\n",
    "        for band in range(1, num_bands + 1):\n",
    "                out_band = out_ds.GetRasterBand(band)\n",
    "                out_band.WriteArray(tile[band - 1])\n",
    "        \n",
    "        \n",
    "        # Close the output file\n",
    "        out_ds = None\n",
    "                \n",
    "print(\"Tiles generation completed.\")"
   ]
  },
  {
   "cell_type": "markdown",
   "id": "7e54fb59-064c-457b-b393-da7ffd021584",
   "metadata": {},
   "source": [
    "# Tile Generation from the Post Event Image"
   ]
  },
  {
   "cell_type": "code",
   "execution_count": 22,
   "id": "6a3e2ab3-3e69-4a6c-823c-fe40660e392b",
   "metadata": {
    "tags": []
   },
   "outputs": [
    {
     "name": "stdout",
     "output_type": "stream",
     "text": [
      "--2024-02-15 16:05:41--  https://challenge.ey.com/api/v1/storage/admin-files/Post_Event_San_Juan.tif\n",
      "Resolving challenge.ey.com (challenge.ey.com)... 52.236.158.32\n",
      "Connecting to challenge.ey.com (challenge.ey.com)|52.236.158.32|:443... connected.\n",
      "HTTP request sent, awaiting response... 200 OK\n",
      "Length: 1310494499 (1.2G) [application/octet-stream]\n",
      "Saving to: ‘Post_Event_San_Juan.tif’\n",
      "\n",
      "Post_Event_San_Juan 100%[===================>]   1.22G  64.7MB/s    in 23s     \n",
      "\n",
      "2024-02-15 16:06:15 (55.2 MB/s) - ‘Post_Event_San_Juan.tif’ saved [1310494499/1310494499]\n",
      "\n"
     ]
    }
   ],
   "source": [
    "!wget https://challenge.ey.com/api/v1/storage/admin-files/Post_Event_San_Juan.tif -O Post_Event_San_Juan.tif"
   ]
  },
  {
   "cell_type": "code",
   "execution_count": 23,
   "id": "7d2da170-1d54-42e6-86fb-a01652f03a7e",
   "metadata": {
    "tags": []
   },
   "outputs": [],
   "source": [
    "!rm -rf ./Post_Event_Grids_In_TIFF"
   ]
  },
  {
   "cell_type": "code",
   "execution_count": 24,
   "id": "daf4b2f4-9371-4263-8bf8-219b363ee615",
   "metadata": {
    "tags": []
   },
   "outputs": [],
   "source": [
    "post_event_file = gdal.Open(post_event_image)"
   ]
  },
  {
   "cell_type": "code",
   "execution_count": 26,
   "id": "75abe4dd-6552-4d44-9d86-c483a7827b97",
   "metadata": {
    "tags": []
   },
   "outputs": [
    {
     "name": "stdout",
     "output_type": "stream",
     "text": [
      "38259 74602 3\n"
     ]
    }
   ],
   "source": [
    "width = post_event_file.RasterXSize \n",
    "height = post_event_file.RasterYSize \n",
    "num_bands = post_event_file.RasterCount\n",
    "print(width, height, num_bands)"
   ]
  },
  {
   "cell_type": "code",
   "execution_count": 28,
   "id": "30da2574-914b-4dfd-bca9-7f127e66d50d",
   "metadata": {
    "tags": []
   },
   "outputs": [],
   "source": [
    "grid_x = 512\n",
    "grid_y = 512"
   ]
  },
  {
   "cell_type": "code",
   "execution_count": 29,
   "id": "f00f2f3d-5ff5-4669-8e54-dff310343787",
   "metadata": {
    "tags": []
   },
   "outputs": [
    {
     "name": "stdout",
     "output_type": "stream",
     "text": [
      "Total number of tiles: 10730\n"
     ]
    }
   ],
   "source": [
    "num_tiles_x = width // grid_x\n",
    "num_tiles_y = height // grid_y\n",
    "print(f\"Total number of tiles: {num_tiles_x * num_tiles_y}\")"
   ]
  },
  {
   "cell_type": "code",
   "execution_count": 30,
   "id": "19391a97-55e5-455e-84fe-733d0c57b976",
   "metadata": {
    "tags": []
   },
   "outputs": [],
   "source": [
    "output_dir = \"Post_Event_Grids_In_TIFF\"\n",
    "os.makedirs(output_dir, exist_ok=True)"
   ]
  },
  {
   "cell_type": "code",
   "execution_count": 31,
   "id": "77c891bb-27fb-4f28-9814-df7efede041a",
   "metadata": {
    "tags": []
   },
   "outputs": [],
   "source": [
    "valuetype = post_event_file.GetRasterBand(1).DataType \n",
    "\n",
    "options = ['COMPRESS=DEFLATE', 'PREDICTOR=2', 'TILED=YES']\n",
    "\n",
    "geotransform = list(post_event_file.GetGeoTransform())\n",
    "\n",
    "projection = post_event_file.GetProjection()"
   ]
  },
  {
   "cell_type": "code",
   "execution_count": 32,
   "id": "4cdbdca5-f481-4244-ad80-b6e755a6293d",
   "metadata": {
    "tags": []
   },
   "outputs": [
    {
     "name": "stderr",
     "output_type": "stream",
     "text": [
      "100%|██████████| 74/74 [08:05<00:00,  6.56s/it]"
     ]
    },
    {
     "name": "stdout",
     "output_type": "stream",
     "text": [
      "Tiles generation completed.\n"
     ]
    },
    {
     "name": "stderr",
     "output_type": "stream",
     "text": [
      "\n"
     ]
    }
   ],
   "source": [
    "# Iterate over each tile and save as a separate TIFF image\n",
    "for i in tqdm(range(num_tiles_x)):\n",
    "    for j in range(num_tiles_y):\n",
    "        x_offset = i * grid_x\n",
    "        y_offset = j * grid_y\n",
    "        \n",
    "        tile_width = min(grid_x, width - x_offset)\n",
    "        tile_height = min(grid_y, height - y_offset)\n",
    "        \n",
    "        tile = [] #will collect the pixel values for the three bands for the current tile\n",
    "        for band in range(1, num_bands + 1):\n",
    "            # read pixel values for a specific tile and a specific band\n",
    "            tile_data = post_event_file.GetRasterBand(band).ReadAsArray(x_offset, y_offset, tile_width, tile_height)\n",
    "            tile.append(tile_data)\n",
    "        \n",
    "        output_file = os.path.join(output_dir, f\"tile_{i}_{j}.tif\")\n",
    "        \n",
    "        # Create an output TIFF file with same CRS and band values range\n",
    "        driver = gdal.GetDriverByName(\"GTiff\") #driver for handling GeoTIFF files\n",
    "        out_ds = driver.Create(output_file, tile_width, tile_height, num_bands, \n",
    "                       valuetype, options=options)\n",
    "\n",
    "        # Set the geotransform\n",
    "        tilegeotransform = geotransform\n",
    "        tilegeotransform[0] = geotransform[0] + x_offset * geotransform[1]\n",
    "        tilegeotransform[3] = geotransform[3] + y_offset * geotransform[5]\n",
    "        out_ds.SetGeoTransform(tuple(tilegeotransform))\n",
    "        \n",
    "        # Set the projection\n",
    "        out_ds.SetProjection(projection)\n",
    "        \n",
    "        # Write each band to the output file\n",
    "        for band in range(1, num_bands + 1):\n",
    "                out_band = out_ds.GetRasterBand(band)\n",
    "                out_band.WriteArray(tile[band - 1])\n",
    "        \n",
    "        \n",
    "        # Close the output file\n",
    "        out_ds = None\n",
    "                \n",
    "print(\"Tiles generation completed.\")"
   ]
  },
  {
   "cell_type": "code",
   "execution_count": null,
   "id": "30e2ad5b-aca6-46fa-9a94-2eb59efd1a37",
   "metadata": {},
   "outputs": [],
   "source": []
  }
 ],
 "metadata": {
  "kernelspec": {
   "display_name": "Python 3 (ipykernel)",
   "language": "python",
   "name": "python3"
  },
  "language_info": {
   "codemirror_mode": {
    "name": "ipython",
    "version": 3
   },
   "file_extension": ".py",
   "mimetype": "text/x-python",
   "name": "python",
   "nbconvert_exporter": "python",
   "pygments_lexer": "ipython3",
   "version": "3.11.4"
  }
 },
 "nbformat": 4,
 "nbformat_minor": 5
}
