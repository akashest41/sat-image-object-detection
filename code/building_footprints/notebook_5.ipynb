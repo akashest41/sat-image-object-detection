{
 "cells": [
  {
   "cell_type": "markdown",
   "id": "52b6fb8c-84cf-4188-8672-04a040a86237",
   "metadata": {},
   "source": [
    "## Creating the GeoTIFF overlayed with the Building Footprint file\n",
    "### demonstrated for a single tile"
   ]
  },
  {
   "cell_type": "code",
   "execution_count": 2,
   "id": "18dc370e-5484-4661-b4c0-185eb9a4109c",
   "metadata": {
    "tags": []
   },
   "outputs": [],
   "source": [
    "#Suppress warnings\n",
    "import warnings\n",
    "warnings.filterwarnings('ignore')\n",
    "\n",
    "#For GeoTIFF images\n",
    "import rasterio\n",
    "from rasterio.plot import show\n",
    "from osgeo import gdal, ogr, osr\n",
    "import geopandas as gpd\n",
    "\n",
    "#For Visualisation\n",
    "from matplotlib import pyplot as plt\n",
    "import matplotlib.image as img\n",
    "from matplotlib.pyplot import figure\n",
    "from PIL import Image\n",
    "\n",
    "# Others\n",
    "import os\n",
    "import shutil\n",
    "import zipfile\n",
    "from tqdm import tqdm"
   ]
  },
  {
   "cell_type": "code",
   "execution_count": 3,
   "id": "e48947bc-b320-43fb-bfb2-fcb9c859c784",
   "metadata": {
    "tags": []
   },
   "outputs": [],
   "source": [
    "path_to_shapefile = \"./provided_footprints/building_footprint_roi_challenge.shp\"\n",
    "path_to_pre_event_image = './Pre_Event_San_Juan.tif'\n",
    "path_to_post_event_image = './Post_Event_San_Juan.tif'"
   ]
  },
  {
   "cell_type": "code",
   "execution_count": 4,
   "id": "21a254d3-7d48-4e25-a962-184d6f2f8671",
   "metadata": {},
   "outputs": [],
   "source": [
    "output_pre_event_raster = './pre_event_footprint.tif'\n",
    "output_post_event_raster = './post_event_footprint.tif'"
   ]
  },
  {
   "cell_type": "code",
   "execution_count": 12,
   "id": "dbedc198-32a2-4208-9742-0f0e4ede9a3f",
   "metadata": {
    "tags": []
   },
   "outputs": [
    {
     "data": {
      "text/plain": [
       "['latitude', 'longitude', 'area_in_me', 'confidence', 'full_plus_']"
      ]
     },
     "execution_count": 12,
     "metadata": {},
     "output_type": "execute_result"
    }
   ],
   "source": [
    "input_shp = ogr.Open('./provided_footprints/building_footprint_roi_challenge.shp')\n",
    "source_layer = input_shp.GetLayer()\n",
    "defn = source_layer.GetLayerDefn()\n",
    "column_names = []\n",
    "for n in range(defn.GetFieldCount()):\n",
    "    fdefn = defn.GetFieldDefn(n)\n",
    "    column_names.append(fdefn.name)\n",
    "column_names"
   ]
  },
  {
   "cell_type": "code",
   "execution_count": 13,
   "id": "8a0947af-0215-47a2-88f8-07bc7e815072",
   "metadata": {
    "tags": []
   },
   "outputs": [],
   "source": [
    "# gdf = gpd.read_file(path_to_shapefile)\n",
    "# gdf.head()"
   ]
  },
  {
   "cell_type": "code",
   "execution_count": 26,
   "id": "ab31abd3-4b94-4673-9fcf-0fbe778ef7dc",
   "metadata": {},
   "outputs": [],
   "source": [
    "def generate_tiles(input_file, shapefile, output_dir,grid_x,grid_y):\n",
    "    ds = gdal.Open(input_file)\n",
    "\n",
    "    # Get image size and number of bands\n",
    "    width = ds.RasterXSize\n",
    "    height = ds.RasterYSize\n",
    "    num_bands = ds.RasterCount\n",
    "\n",
    "    # Calculate number of tiles in each dimension\n",
    "    num_tiles_x = (width // grid_x)\n",
    "    num_tiles_y = (height // grid_y)\n",
    "\n",
    "    print(f\"Total number of tiles: {num_tiles_x * num_tiles_y}\")\n",
    "\n",
    "    # Create output directory if it doesn't exist\n",
    "    os.makedirs(output_dir, exist_ok=True)\n",
    "    \n",
    "    # Open the shapefile and get the layer\n",
    "    shapefile_ds = ogr.Open(shapefile)\n",
    "    layer = shapefile_ds.GetLayer()\n",
    "\n",
    "    # Iterate over each tile and save as a separate TIFF image\n",
    "    for i in tqdm([8]):\n",
    "        for j in [21]:\n",
    "            x_offset = i *  grid_x\n",
    "            y_offset = j *  grid_y\n",
    "\n",
    "            tile_width = min(grid_x, width - x_offset)\n",
    "            tile_height = min(grid_y, height - y_offset)\n",
    "\n",
    "            tile = []\n",
    "            for band in range(1, num_bands + 1):\n",
    "                tile_data = ds.GetRasterBand(band).ReadAsArray(x_offset, y_offset, tile_width, tile_height)\n",
    "                tile.append(tile_data)\n",
    "\n",
    "            # Create output filename\n",
    "            output_file = os.path.join(output_dir, f\"tile_{i}_{j}.tif\")\n",
    "                        \n",
    "            # Create an output TIFF file with same CRS and band values range\n",
    "            driver = gdal.GetDriverByName(\"GTiff\")\n",
    "            options = ['COMPRESS=DEFLATE', 'PREDICTOR=2', 'TILED=YES']\n",
    "            out_ds = driver.Create(output_file, tile_width, tile_height, num_bands, \n",
    "                       ds.GetRasterBand(1).DataType, options=options)\n",
    "            # out_ds = driver.Create(output_file, tile_width, tile_height, num_bands, ds.GetRasterBand(1).DataType)\n",
    "\n",
    "            # Set the geotransform\n",
    "            geotransform = list(ds.GetGeoTransform())\n",
    "            geotransform[0] = geotransform[0] + x_offset * geotransform[1]\n",
    "            geotransform[3] = geotransform[3] + y_offset * geotransform[5]\n",
    "            out_ds.SetGeoTransform(tuple(geotransform))\n",
    "\n",
    "            # Set the projection\n",
    "            out_ds.SetProjection(ds.GetProjection())\n",
    "\n",
    "            # Write each band to the output file\n",
    "            for band in range(1, num_bands + 1):\n",
    "                out_band = out_ds.GetRasterBand(band)\n",
    "                out_band.WriteArray(tile[band - 1])\n",
    "                \n",
    "            gdal.RasterizeLayer(out_ds, [1], layer, burn_values=[255], options=[\"ALL_TOUCHED=TRUE\"])\n",
    "\n",
    "            # Close the output file\n",
    "            out_ds = None\n",
    "\n",
    "    print(\"Tiles generation completed.\")"
   ]
  },
  {
   "cell_type": "code",
   "execution_count": 27,
   "id": "61ef385b-fb7e-46ac-bc49-a1ede6bf2062",
   "metadata": {
    "tags": []
   },
   "outputs": [
    {
     "name": "stdout",
     "output_type": "stream",
     "text": [
      "Total number of tiles: 10730\n"
     ]
    },
    {
     "name": "stderr",
     "output_type": "stream",
     "text": [
      "100%|██████████| 1/1 [00:00<00:00, 22.56it/s]"
     ]
    },
    {
     "name": "stdout",
     "output_type": "stream",
     "text": [
      "Tiles generation completed.\n"
     ]
    },
    {
     "name": "stderr",
     "output_type": "stream",
     "text": [
      "\n"
     ]
    }
   ],
   "source": [
    "!rm -rf \"./Pre_Event_Grids_In_TIFF\"\n",
    "input_file = path_to_pre_event_image\n",
    "shape_file = path_to_shapefile\n",
    "output_dir = \"./Pre_Event_Grids_In_TIFF\"\n",
    "grid_x = 512\n",
    "grid_y = 512\n",
    "generate_tiles(input_file, shape_file, output_dir,grid_x,grid_y)"
   ]
  },
  {
   "cell_type": "code",
   "execution_count": null,
   "id": "20ab6399-6afb-45ff-8027-c8692996a8c0",
   "metadata": {},
   "outputs": [],
   "source": []
  }
 ],
 "metadata": {
  "kernelspec": {
   "display_name": "Python 3 (ipykernel)",
   "language": "python",
   "name": "python3"
  },
  "language_info": {
   "codemirror_mode": {
    "name": "ipython",
    "version": 3
   },
   "file_extension": ".py",
   "mimetype": "text/x-python",
   "name": "python",
   "nbconvert_exporter": "python",
   "pygments_lexer": "ipython3",
   "version": "3.11.4"
  }
 },
 "nbformat": 4,
 "nbformat_minor": 5
}
